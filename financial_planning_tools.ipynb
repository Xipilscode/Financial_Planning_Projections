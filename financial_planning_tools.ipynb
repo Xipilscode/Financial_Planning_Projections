{
 "cells": [
  {
   "cell_type": "markdown",
   "metadata": {
    "tags": []
   },
   "source": [
    "# Financial Planning with APIs and Simulations\n",
    "\n",
    "This project will have two financial analysis tools by using a single Jupyter notebook:\n",
    "\n",
    "Part 1: A financial planner for emergencies. The members will be able to use this tool to visualize their current savings. The members can then determine if they have enough reserves for an emergency fund.\n",
    "\n",
    "Part 2: A financial planner for retirement. This tool will forecast the performance of their retirement portfolio in 30 years. To do this, the tool will make an Alpaca API call via the Alpaca SDK to get historical price data for use in Monte Carlo simulations.\n",
    "\n",
    "You’ll use the information from the Monte Carlo simulation to answer questions about the portfolio in your Jupyter notebook.\n",
    "\n"
   ]
  },
  {
   "cell_type": "code",
   "execution_count": 1,
   "metadata": {},
   "outputs": [],
   "source": [
    "# Import the required libraries and dependencies\n",
    "import os\n",
    "import requests\n",
    "import json\n",
    "import pandas as pd\n",
    "from dotenv import load_dotenv\n",
    "import alpaca_trade_api as tradeapi\n",
    "from MCForecastTools import MCSimulation\n",
    "import matplotlib.pyplot as plt\n",
    "\n",
    "%matplotlib inline"
   ]
  },
  {
   "cell_type": "code",
   "execution_count": 2,
   "metadata": {},
   "outputs": [
    {
     "data": {
      "text/plain": [
       "True"
      ]
     },
     "execution_count": 2,
     "metadata": {},
     "output_type": "execute_result"
    }
   ],
   "source": [
    "# Load the environment variables from the .env file\n",
    "#by calling the load_dotenv function\n",
    "load_dotenv('KEYS.env')"
   ]
  },
  {
   "cell_type": "markdown",
   "metadata": {},
   "source": [
    "## Part 1: Create a Financial Planner for Emergencies"
   ]
  },
  {
   "cell_type": "markdown",
   "metadata": {
    "tags": []
   },
   "source": [
    "### Evaluate the Cryptocurrency Wallet by Using the Requests Library\n",
    "\n",
    "In this section, you’ll determine the current value of a member’s cryptocurrency wallet. You’ll collect the current prices for the Bitcoin and Ethereum cryptocurrencies by using the Python Requests library. For the prototype, you’ll assume that the member holds the 1.2 Bitcoins (BTC) and 5.3 Ethereum coins (ETH). To do all this, complete the following steps:\n",
    "\n",
    "1. Create a variable named `monthly_income`, and set its value to `12000`.\n",
    "\n",
    "2. Use the Requests library to get the current price (in US dollars) of Bitcoin (BTC) and Ethereum (ETH) by using the API endpoints.\n",
    "\n",
    "3. Navigate the JSON response object to access the current price of each coin, and store each in a variable.\n",
    "\n",
    "    > **Hint** Note the specific identifier for each cryptocurrency in the API JSON response. The Bitcoin identifier is `1`, and the Ethereum identifier is `1027`.\n",
    "\n",
    "4. Calculate the value, in US dollars, of the current amount of each cryptocurrency and of the entire cryptocurrency wallet.\n",
    "\n"
   ]
  },
  {
   "cell_type": "code",
   "execution_count": 3,
   "metadata": {},
   "outputs": [],
   "source": [
    "# The current number of coins for each cryptocurrency asset held in the portfolio.\n",
    "btc_coins = 1.2\n",
    "eth_coins = 5.3"
   ]
  },
  {
   "cell_type": "markdown",
   "metadata": {},
   "source": [
    "#### Step 1: Create a variable named `monthly_income`, and set its value to `12000`."
   ]
  },
  {
   "cell_type": "code",
   "execution_count": 4,
   "metadata": {},
   "outputs": [],
   "source": [
    "# The monthly amount for the member's household income\n",
    "monthly_income = 12000\n"
   ]
  },
  {
   "cell_type": "markdown",
   "metadata": {},
   "source": [
    "#### Review the endpoint URLs for the API calls to Free Crypto API in order to get the current pricing information for both BTC and ETH."
   ]
  },
  {
   "cell_type": "code",
   "execution_count": 5,
   "metadata": {},
   "outputs": [],
   "source": [
    "# The Free Crypto API Call endpoint URLs for the held cryptocurrency assets\n",
    "btc_url = \"https://api.alternative.me/v2/ticker/Bitcoin/?convert=USD\"\n",
    "eth_url = \"https://api.alternative.me/v2/ticker/Ethereum/?convert=USD\""
   ]
  },
  {
   "cell_type": "markdown",
   "metadata": {},
   "source": [
    "#### Step 2. Use the Requests library to get the current price (in US dollars) of Bitcoin (BTC) and Ethereum (ETH) by using the API endpoints."
   ]
  },
  {
   "cell_type": "code",
   "execution_count": 6,
   "metadata": {},
   "outputs": [
    {
     "name": "stdout",
     "output_type": "stream",
     "text": [
      "{\n",
      "    \"data\": {\n",
      "        \"1\": {\n",
      "            \"circulating_supply\": 19311162,\n",
      "            \"id\": 1,\n",
      "            \"last_updated\": 1678222792,\n",
      "            \"max_supply\": 21000000,\n",
      "            \"name\": \"Bitcoin\",\n",
      "            \"quotes\": {\n",
      "                \"USD\": {\n",
      "                    \"market_cap\": 427030947163,\n",
      "                    \"percent_change_1h\": -0.685271340192745,\n",
      "                    \"percent_change_24h\": -1.3891905633668,\n",
      "                    \"percent_change_7d\": -6.23596052344606,\n",
      "                    \"percentage_change_1h\": -0.685271340192745,\n",
      "                    \"percentage_change_24h\": -1.3891905633668,\n",
      "                    \"percentage_change_7d\": -6.23596052344606,\n",
      "                    \"price\": 22052.0,\n",
      "                    \"volume_24h\": 26585169726\n",
      "                }\n",
      "            },\n",
      "            \"rank\": 1,\n",
      "            \"symbol\": \"BTC\",\n",
      "            \"total_supply\": 19311162,\n",
      "            \"website_slug\": \"bitcoin\"\n",
      "        }\n",
      "    },\n",
      "    \"metadata\": {\n",
      "        \"error\": null,\n",
      "        \"num_cryptocurrencies\": 3119,\n",
      "        \"timestamp\": 1678222792\n",
      "    }\n",
      "}\n"
     ]
    }
   ],
   "source": [
    "# Using the Python requests library, make an API call to access the current price of BTC\n",
    "btc_response = requests.get(btc_url).json()\n",
    "\n",
    "# Use the json.dumps function to review the response data from the API call\n",
    "# Use the indent and sort_keys parameters to make the response object readable\n",
    "print(json.dumps(btc_response, indent=4, sort_keys=True))\n",
    "    "
   ]
  },
  {
   "cell_type": "code",
   "execution_count": 7,
   "metadata": {},
   "outputs": [
    {
     "name": "stdout",
     "output_type": "stream",
     "text": [
      "{\n",
      "    \"data\": {\n",
      "        \"1027\": {\n",
      "            \"circulating_supply\": 120473820,\n",
      "            \"id\": 1027,\n",
      "            \"last_updated\": 1678222799,\n",
      "            \"max_supply\": 120473820,\n",
      "            \"name\": \"Ethereum\",\n",
      "            \"quotes\": {\n",
      "                \"USD\": {\n",
      "                    \"market_cap\": 186915492538,\n",
      "                    \"percent_change_1h\": -0.502211681958124,\n",
      "                    \"percent_change_24h\": -0.79923003459851,\n",
      "                    \"percent_change_7d\": -5.25645214882227,\n",
      "                    \"percentage_change_1h\": -0.502211681958124,\n",
      "                    \"percentage_change_24h\": -0.79923003459851,\n",
      "                    \"percentage_change_7d\": -5.25645214882227,\n",
      "                    \"price\": 1548.09,\n",
      "                    \"volume_24h\": 8134429633\n",
      "                }\n",
      "            },\n",
      "            \"rank\": 2,\n",
      "            \"symbol\": \"ETH\",\n",
      "            \"total_supply\": 120473820,\n",
      "            \"website_slug\": \"ethereum\"\n",
      "        }\n",
      "    },\n",
      "    \"metadata\": {\n",
      "        \"error\": null,\n",
      "        \"num_cryptocurrencies\": 3119,\n",
      "        \"timestamp\": 1678222799\n",
      "    }\n",
      "}\n"
     ]
    }
   ],
   "source": [
    "# Using the Python requests library, make an API call to access the current price ETH\n",
    "eth_response = requests.get(eth_url).json()\n",
    "\n",
    "# Use the json.dumps function to review the response data from the API call\n",
    "# Use the indent and sort_keys parameters to make the response object readable\n",
    "print(json.dumps(eth_response, indent=4, sort_keys=True))"
   ]
  },
  {
   "cell_type": "markdown",
   "metadata": {},
   "source": [
    "#### Step 3: Navigate the JSON response object to access the current price of each coin, and store each in a variable."
   ]
  },
  {
   "cell_type": "code",
   "execution_count": 8,
   "metadata": {},
   "outputs": [
    {
     "data": {
      "text/plain": [
       "22052.0"
      ]
     },
     "execution_count": 8,
     "metadata": {},
     "output_type": "execute_result"
    }
   ],
   "source": [
    "# Navigate the BTC response object to access the current price of BTC\n",
    "btc_price = btc_response['data']['1']['quotes']['USD']['price']\n",
    "\n",
    "# Print the current price of BTC\n",
    "btc_price\n"
   ]
  },
  {
   "cell_type": "code",
   "execution_count": 9,
   "metadata": {},
   "outputs": [
    {
     "data": {
      "text/plain": [
       "1548.09"
      ]
     },
     "execution_count": 9,
     "metadata": {},
     "output_type": "execute_result"
    }
   ],
   "source": [
    "# Navigate the BTC response object to access the current price of ETH\n",
    "eth_price = eth_response['data']['1027']['quotes']['USD']['price']\n",
    "\n",
    "# Print the current price of ETH\n",
    "eth_price\n"
   ]
  },
  {
   "cell_type": "markdown",
   "metadata": {},
   "source": [
    "### Step 4: Calculate the value, in US dollars, of the current amount of each cryptocurrency and of the entire cryptocurrency wallet."
   ]
  },
  {
   "cell_type": "code",
   "execution_count": 10,
   "metadata": {},
   "outputs": [
    {
     "data": {
      "text/plain": [
       "26462.399999999998"
      ]
     },
     "execution_count": 10,
     "metadata": {},
     "output_type": "execute_result"
    }
   ],
   "source": [
    "# Compute the current value of the BTC holding \n",
    "btc_value = btc_price * btc_coins\n",
    "\n",
    "# Print current value of your holding in BTC\n",
    "btc_value\n"
   ]
  },
  {
   "cell_type": "code",
   "execution_count": 11,
   "metadata": {},
   "outputs": [
    {
     "data": {
      "text/plain": [
       "8204.876999999999"
      ]
     },
     "execution_count": 11,
     "metadata": {},
     "output_type": "execute_result"
    }
   ],
   "source": [
    "# Compute the current value of the ETH holding \n",
    "eth_value = eth_price * eth_coins\n",
    "\n",
    "# Print current value of your holding in ETH\n",
    "eth_value\n"
   ]
  },
  {
   "cell_type": "code",
   "execution_count": 12,
   "metadata": {},
   "outputs": [
    {
     "data": {
      "text/plain": [
       "34667.276999999995"
      ]
     },
     "execution_count": 12,
     "metadata": {},
     "output_type": "execute_result"
    }
   ],
   "source": [
    "# Compute the total value of the cryptocurrency wallet\n",
    "# Add the value of the BTC holding to the value of the ETH holding\n",
    "total_crypto_wallet = btc_value + eth_value\n",
    "\n",
    "# Print current cryptocurrency wallet balance\n",
    "total_crypto_wallet\n"
   ]
  },
  {
   "cell_type": "markdown",
   "metadata": {},
   "source": [
    "### Evaluate the Stock and Bond Holdings by Using the Alpaca SDK\n",
    "\n",
    "In this section, you’ll determine the current value of a member’s stock and bond holdings. You’ll make an API call to Alpaca via the Alpaca SDK to get the current closing prices of the SPDR S&P 500 ETF Trust (ticker: SPY) and of the iShares Core US Aggregate Bond ETF (ticker: AGG). For the prototype, assume that the member holds 110 shares of SPY, which represents the stock portion of their portfolio, and 200 shares of AGG, which represents the bond portion. To do all this, complete the following steps:\n",
    "\n",
    "1. In the `Financial_Planning_Projections` folder, create an environment file (`.env`) to store the values of your Alpaca API key and Alpaca secret key.\n",
    "\n",
    "2. Set the variables for the Alpaca API and secret keys. Using the Alpaca SDK, create the Alpaca `tradeapi.REST` object. In this object, include the parameters for the Alpaca API key, the secret key, and the version number.\n",
    "\n",
    "3. Set the following parameters for the Alpaca API call:\n",
    "\n",
    "    - `tickers`: Use the tickers for the member’s stock and bond holdings.\n",
    "\n",
    "    - `timeframe`: Use a time frame of one day.\n",
    "\n",
    "    - `start_date` and `end_date`: Use the same date for these parameters, and format them with the date of the previous weekday (or `2020-08-07`). This is because you want the one closing price for the most-recent trading day.\n",
    "\n",
    "4. Get the current closing prices for `SPY` and `AGG` by using the Alpaca `get_bars` function. Format the response as a Pandas DataFrame by including the `df` property at the end of the `get_bars` function.\n",
    "\n",
    "5. Navigating the Alpaca response DataFrame, select the `SPY` and `AGG` closing prices, and store them as variables.\n",
    "\n",
    "6. Calculate the value, in US dollars, of the current amount of shares in each of the stock and bond portions of the portfolio, and print the results.\n"
   ]
  },
  {
   "cell_type": "markdown",
   "metadata": {},
   "source": [
    "#### Review the total number of shares held in both (SPY) and (AGG)."
   ]
  },
  {
   "cell_type": "code",
   "execution_count": 13,
   "metadata": {},
   "outputs": [],
   "source": [
    "# Current amount of shares held in both the stock (SPY) and bond (AGG) portion of the portfolio.\n",
    "spy_shares = 110\n",
    "agg_shares = 200\n"
   ]
  },
  {
   "cell_type": "markdown",
   "metadata": {
    "tags": []
   },
   "source": [
    "#### Step 1: In the `Financial_Planning_Projections` folder, create an environment file (`.env`) to store the values of your Alpaca API key and Alpaca secret key."
   ]
  },
  {
   "cell_type": "markdown",
   "metadata": {
    "tags": []
   },
   "source": [
    "#### Step 2: Set the variables for the Alpaca API and secret keys. Using the Alpaca SDK, create the Alpaca `tradeapi.REST` object. In this object, include the parameters for the Alpaca API key, the secret key, and the version number."
   ]
  },
  {
   "cell_type": "code",
   "execution_count": 14,
   "metadata": {},
   "outputs": [],
   "source": [
    "# Set the variables for the Alpaca API and secret keys\n",
    "alpaca_API = os.getenv('ALPACA_API_KEY')\n",
    "alpaca_key = os.getenv('ALPACA_SECRET_KEY')\n",
    "\n",
    "# Create the Alpaca tradeapi.REST object\n",
    "alpaca = tradeapi.REST(\n",
    "    alpaca_API, \n",
    "    alpaca_key,\n",
    "    api_version='v2'\n",
    ")\n"
   ]
  },
  {
   "cell_type": "markdown",
   "metadata": {
    "tags": []
   },
   "source": [
    "#### Step 3: Set the following parameters for the Alpaca API call:\n",
    "\n",
    "- `tickers`: Use the tickers for the member’s stock and bond holdings.\n",
    "\n",
    "- `timeframe`: Use a time frame of one day.\n",
    "\n",
    "- `start_date` and `end_date`: Use the same date for these parameters, and format them with the date of the previous weekday (or `2020-08-07`). This is because you want the one closing price for the most-recent trading day.\n"
   ]
  },
  {
   "cell_type": "code",
   "execution_count": 15,
   "metadata": {},
   "outputs": [],
   "source": [
    "# Set the tickers for both the bond and stock portion of the portfolio\n",
    "tickers = ['SPY','AGG']\n",
    "\n",
    "# Set timeframe to 1Day\n",
    "timeframe = '1Day'\n",
    "\n",
    "# Get current date and time in New York timezone\n",
    "current_date = pd.Timestamp.now(tz='America/New_York')\n",
    "\n",
    "# Set both the start and end date at the date of your prior business weekday to get closing price of the previous trading day\n",
    "start_date = current_date - pd.offsets.BDay(1)\n",
    "end_date = start_date\n",
    "\n",
    "#Format start and end dates as ISO format\n",
    "start_date_iso = start_date.date().isoformat()\n",
    "end_date_iso = end_date.date().isoformat()"
   ]
  },
  {
   "cell_type": "markdown",
   "metadata": {},
   "source": [
    "#### Step 4: Get the current closing prices for `SPY` and `AGG` by using the Alpaca `get_bars` function. Format the response as a Pandas DataFrame by including the `df` property at the end of the `get_bars` function."
   ]
  },
  {
   "cell_type": "code",
   "execution_count": 16,
   "metadata": {},
   "outputs": [
    {
     "data": {
      "text/html": [
       "<div>\n",
       "<style scoped>\n",
       "    .dataframe tbody tr th:only-of-type {\n",
       "        vertical-align: middle;\n",
       "    }\n",
       "\n",
       "    .dataframe tbody tr th {\n",
       "        vertical-align: top;\n",
       "    }\n",
       "\n",
       "    .dataframe thead tr th {\n",
       "        text-align: left;\n",
       "    }\n",
       "\n",
       "    .dataframe thead tr:last-of-type th {\n",
       "        text-align: right;\n",
       "    }\n",
       "</style>\n",
       "<table border=\"1\" class=\"dataframe\">\n",
       "  <thead>\n",
       "    <tr>\n",
       "      <th></th>\n",
       "      <th colspan=\"7\" halign=\"left\">AGG</th>\n",
       "      <th colspan=\"7\" halign=\"left\">SPY</th>\n",
       "    </tr>\n",
       "    <tr>\n",
       "      <th></th>\n",
       "      <th>open</th>\n",
       "      <th>high</th>\n",
       "      <th>low</th>\n",
       "      <th>close</th>\n",
       "      <th>volume</th>\n",
       "      <th>trade_count</th>\n",
       "      <th>vwap</th>\n",
       "      <th>open</th>\n",
       "      <th>high</th>\n",
       "      <th>low</th>\n",
       "      <th>close</th>\n",
       "      <th>volume</th>\n",
       "      <th>trade_count</th>\n",
       "      <th>vwap</th>\n",
       "    </tr>\n",
       "    <tr>\n",
       "      <th>timestamp</th>\n",
       "      <th></th>\n",
       "      <th></th>\n",
       "      <th></th>\n",
       "      <th></th>\n",
       "      <th></th>\n",
       "      <th></th>\n",
       "      <th></th>\n",
       "      <th></th>\n",
       "      <th></th>\n",
       "      <th></th>\n",
       "      <th></th>\n",
       "      <th></th>\n",
       "      <th></th>\n",
       "      <th></th>\n",
       "    </tr>\n",
       "  </thead>\n",
       "  <tbody>\n",
       "    <tr>\n",
       "      <th>2023-03-06 05:00:00+00:00</th>\n",
       "      <td>97.27</td>\n",
       "      <td>97.29</td>\n",
       "      <td>96.81</td>\n",
       "      <td>96.84</td>\n",
       "      <td>4188489</td>\n",
       "      <td>20310</td>\n",
       "      <td>96.9585</td>\n",
       "      <td>405.05</td>\n",
       "      <td>407.45</td>\n",
       "      <td>404.01</td>\n",
       "      <td>404.47</td>\n",
       "      <td>72795946</td>\n",
       "      <td>539397</td>\n",
       "      <td>405.429475</td>\n",
       "    </tr>\n",
       "  </tbody>\n",
       "</table>\n",
       "</div>"
      ],
      "text/plain": [
       "                             AGG                                            \\\n",
       "                            open   high    low  close   volume trade_count   \n",
       "timestamp                                                                    \n",
       "2023-03-06 05:00:00+00:00  97.27  97.29  96.81  96.84  4188489       20310   \n",
       "\n",
       "                                       SPY                                    \\\n",
       "                              vwap    open    high     low   close    volume   \n",
       "timestamp                                                                      \n",
       "2023-03-06 05:00:00+00:00  96.9585  405.05  407.45  404.01  404.47  72795946   \n",
       "\n",
       "                                                   \n",
       "                          trade_count        vwap  \n",
       "timestamp                                          \n",
       "2023-03-06 05:00:00+00:00      539397  405.429475  "
      ]
     },
     "execution_count": 16,
     "metadata": {},
     "output_type": "execute_result"
    }
   ],
   "source": [
    "# Use the Alpaca get_bars function to get current closing prices the portfolio\n",
    "# Set the `df` property after the function to format the response object as a DataFrame\n",
    "closing_price = alpaca.get_bars(\n",
    "    tickers,\n",
    "    timeframe,\n",
    "    start=start_date.date(),\n",
    "    end=end_date.date()\n",
    ").df\n",
    "\n",
    "# Reorganize the DataFrame\n",
    "# Separate ticker data\n",
    "AGG = closing_price[closing_price['symbol'] == 'AGG'].drop('symbol', axis=1)\n",
    "SPY = closing_price[closing_price['symbol'] == 'SPY'].drop('symbol', axis=1)\n",
    "\n",
    "# Concatenate the ticker DataFrames\n",
    "closing_price = pd.concat([AGG, SPY], axis=1, keys=['AGG', 'SPY'])\n",
    "\n",
    "# Review the first 5 rows of the Alpaca DataFrame\n",
    "closing_price.head()\n"
   ]
  },
  {
   "cell_type": "markdown",
   "metadata": {},
   "source": [
    "#### Step 5: Navigating the Alpaca response DataFrame, select the `SPY` and `AGG` closing prices, and store them as variables."
   ]
  },
  {
   "cell_type": "code",
   "execution_count": 17,
   "metadata": {},
   "outputs": [
    {
     "data": {
      "text/plain": [
       "96.84"
      ]
     },
     "execution_count": 17,
     "metadata": {},
     "output_type": "execute_result"
    }
   ],
   "source": [
    "# Access the closing price for AGG from the Alpaca DataFrame\n",
    "# Converting the value to a floating point number\n",
    "agg_close_price = float(closing_price['AGG']['close'][0])\n",
    "\n",
    "# Print the AGG closing price\n",
    "agg_close_price\n"
   ]
  },
  {
   "cell_type": "code",
   "execution_count": 18,
   "metadata": {},
   "outputs": [
    {
     "data": {
      "text/plain": [
       "404.47"
      ]
     },
     "execution_count": 18,
     "metadata": {},
     "output_type": "execute_result"
    }
   ],
   "source": [
    "# Access the closing price for SPY from the Alpaca DataFrame\n",
    "# Converting the value to a floating point number\n",
    "spy_close_price = float(closing_price['SPY']['close'][0])\n",
    "\n",
    "\n",
    "# Print the SPY closing price\n",
    "spy_close_price\n"
   ]
  },
  {
   "cell_type": "markdown",
   "metadata": {},
   "source": [
    "#### Step 6: Calculate the value, in US dollars, of the current amount of shares in each of the stock and bond portions of the portfolio, and print the results."
   ]
  },
  {
   "cell_type": "code",
   "execution_count": 19,
   "metadata": {},
   "outputs": [
    {
     "data": {
      "text/plain": [
       "19368.0"
      ]
     },
     "execution_count": 19,
     "metadata": {},
     "output_type": "execute_result"
    }
   ],
   "source": [
    "# Calculate the current value of the bond portion of the portfolio\n",
    "agg_value = agg_close_price * agg_shares\n",
    "\n",
    "# Print the current value of the bond portfolio\n",
    "agg_value\n"
   ]
  },
  {
   "cell_type": "code",
   "execution_count": 20,
   "metadata": {},
   "outputs": [
    {
     "data": {
      "text/plain": [
       "44491.700000000004"
      ]
     },
     "execution_count": 20,
     "metadata": {},
     "output_type": "execute_result"
    }
   ],
   "source": [
    "# Calculate the current value of the stock portion of the portfolio\n",
    "spy_value = spy_close_price * spy_shares\n",
    "\n",
    "# Print the current value of the stock portfolio\n",
    "spy_value\n"
   ]
  },
  {
   "cell_type": "code",
   "execution_count": 21,
   "metadata": {},
   "outputs": [
    {
     "data": {
      "text/plain": [
       "63859.700000000004"
      ]
     },
     "execution_count": 21,
     "metadata": {},
     "output_type": "execute_result"
    }
   ],
   "source": [
    "# Calculate the total value of the stock and bond portion of the portfolio\n",
    "total_stocks_bonds = agg_value + spy_value\n",
    "\n",
    "# Print the current balance of the stock and bond portion of the portfolio\n",
    "total_stocks_bonds\n"
   ]
  },
  {
   "cell_type": "code",
   "execution_count": 22,
   "metadata": {},
   "outputs": [
    {
     "data": {
      "text/plain": [
       "98526.977"
      ]
     },
     "execution_count": 22,
     "metadata": {},
     "output_type": "execute_result"
    }
   ],
   "source": [
    "# Calculate the total value of the member's entire savings portfolio\n",
    "# Add the value of the cryptocurrency walled to the value of the total stocks and bonds\n",
    "total_portfolio = total_stocks_bonds + total_crypto_wallet\n",
    "\n",
    "# Print current cryptocurrency wallet balance\n",
    "total_portfolio\n"
   ]
  },
  {
   "cell_type": "markdown",
   "metadata": {},
   "source": [
    "### Evaluate the Emergency Fund\n",
    "\n",
    "In this section, you’ll use the valuations for the cryptocurrency wallet and for the stock and bond portions of the portfolio to determine if the credit union member has enough savings to build an emergency fund into their financial plan. To do this, complete the following steps:\n",
    "\n",
    "1. Create a Python list named `savings_data` that has two elements. The first element contains the total value of the cryptocurrency wallet. The second element contains the total value of the stock and bond portions of the portfolio.\n",
    "\n",
    "2. Use the `savings_data` list to create a Pandas DataFrame named `savings_df`, and then display this DataFrame. The function to create the DataFrame should take the following three parameters:\n",
    "\n",
    "    - `savings_data`: Use the list that you just created.\n",
    "\n",
    "    - `columns`: Set this parameter equal to a Python list with a single value called `amount`.\n",
    "\n",
    "    - `index`: Set this parameter equal to a Python list with the values of `crypto` and `stock/bond`.\n",
    "\n",
    "3. Use the `savings_df` DataFrame to plot a pie chart that visualizes the composition of the member’s portfolio. The y-axis of the pie chart uses `amount`. Be sure to add a title.\n",
    "\n",
    "4. Using Python, determine if the current portfolio has enough to create an emergency fund as part of the member’s financial plan. Ideally, an emergency fund should equal to three times the member’s monthly income. To do this, implement the following steps:\n",
    "\n",
    "    1. Create a variable named `emergency_fund_value`, and set it equal to three times the value of the member’s `monthly_income` of $12000. (You set this earlier in Part 1).\n",
    "\n",
    "    2. Create a series of three if statements to determine if the member’s total portfolio is large enough to fund the emergency portfolio:\n",
    "\n",
    "        1. If the total portfolio value is greater than the emergency fund value, display a message congratulating the member for having enough money in this fund.\n",
    "\n",
    "        2. Else if the total portfolio value is equal to the emergency fund value, display a message congratulating the member on reaching this important financial goal.\n",
    "\n",
    "        3. Else the total portfolio is less than the emergency fund value, so display a message showing how many dollars away the member is from reaching the goal. (Subtract the total portfolio value from the emergency fund value.)\n"
   ]
  },
  {
   "cell_type": "markdown",
   "metadata": {},
   "source": [
    "#### Step 1: Create a Python list named `savings_data` that has two elements. The first element contains the total value of the cryptocurrency wallet. The second element contains the total value of the stock and bond portions of the portfolio."
   ]
  },
  {
   "cell_type": "code",
   "execution_count": 23,
   "metadata": {},
   "outputs": [
    {
     "data": {
      "text/plain": [
       "[34667.276999999995, 63859.700000000004]"
      ]
     },
     "execution_count": 23,
     "metadata": {},
     "output_type": "execute_result"
    }
   ],
   "source": [
    "# Consolidate financial assets data into a Python list\n",
    "savings_data = [total_crypto_wallet,total_stocks_bonds]\n",
    "\n",
    "# Review the Python list savings_data\n",
    "savings_data"
   ]
  },
  {
   "cell_type": "markdown",
   "metadata": {},
   "source": [
    "#### Step 2: Use the `savings_data` list to create a Pandas DataFrame named `savings_df`, and then display this DataFrame. The function to create the DataFrame should take the following three parameters:\n",
    "\n",
    "- `savings_data`: Use the list that you just created.\n",
    "\n",
    "- `columns`: Set this parameter equal to a Python list with a single value called `amount`.\n",
    "\n",
    "- `index`: Set this parameter equal to a Python list with the values of `crypto` and `stock/bond`.\n"
   ]
  },
  {
   "cell_type": "code",
   "execution_count": 24,
   "metadata": {},
   "outputs": [
    {
     "data": {
      "text/html": [
       "<div>\n",
       "<style scoped>\n",
       "    .dataframe tbody tr th:only-of-type {\n",
       "        vertical-align: middle;\n",
       "    }\n",
       "\n",
       "    .dataframe tbody tr th {\n",
       "        vertical-align: top;\n",
       "    }\n",
       "\n",
       "    .dataframe thead th {\n",
       "        text-align: right;\n",
       "    }\n",
       "</style>\n",
       "<table border=\"1\" class=\"dataframe\">\n",
       "  <thead>\n",
       "    <tr style=\"text-align: right;\">\n",
       "      <th></th>\n",
       "      <th>amount</th>\n",
       "    </tr>\n",
       "  </thead>\n",
       "  <tbody>\n",
       "    <tr>\n",
       "      <th>crypto</th>\n",
       "      <td>34667.277</td>\n",
       "    </tr>\n",
       "    <tr>\n",
       "      <th>stock/bond</th>\n",
       "      <td>63859.700</td>\n",
       "    </tr>\n",
       "  </tbody>\n",
       "</table>\n",
       "</div>"
      ],
      "text/plain": [
       "               amount\n",
       "crypto      34667.277\n",
       "stock/bond  63859.700"
      ]
     },
     "execution_count": 24,
     "metadata": {},
     "output_type": "execute_result"
    }
   ],
   "source": [
    "# Create a Pandas DataFrame called savings_df \n",
    "savins_df = pd.DataFrame(savings_data, columns=['amount'], index=['crypto','stock/bond'])\n",
    "\n",
    "# Display the savings_df DataFrame\n",
    "savins_df\n"
   ]
  },
  {
   "cell_type": "markdown",
   "metadata": {},
   "source": [
    "#### Step 3: Use the `savings_df` DataFrame to plot a pie chart that visualizes the composition of the member’s portfolio. The y-axis of the pie chart uses `amount`."
   ]
  },
  {
   "cell_type": "code",
   "execution_count": 25,
   "metadata": {},
   "outputs": [
    {
     "data": {
      "image/png": "[encoded data removed]",
      "text/plain": [
       "<Figure size 640x480 with 1 Axes>"
      ]
     },
     "metadata": {},
     "output_type": "display_data"
    }
   ],
   "source": [
    "# Create a list of asset names\n",
    "assets = ['Crypto', 'Stock/Bond']\n",
    "\n",
    "# Plot the total value of the member's portfolio (crypto and stock/bond) in a pie chart\n",
    "fig, ax = plt.subplots()\n",
    "\n",
    "# Create the pie chart\n",
    "wedges, texts, autotexts = ax.pie(\n",
    "    savins_df['amount'],\n",
    "    wedgeprops=dict(width=0.4), # specify the width of the donut hole\n",
    "    shadow=False, \n",
    "    explode=(0, 0,), \n",
    "    colors=['blue','orange'],\n",
    "    autopct='%1.2f%%', # add percentage labels\n",
    ")\n",
    "\n",
    "# Add labels and values to the chart\n",
    "ax.legend(wedges, assets,\n",
    "          title=\"Assets\",\n",
    "          loc=\"center left\",\n",
    "          bbox_to_anchor=(1, 0, 0.5, 1))\n",
    "\n",
    "# Adjust the font size and weight of the percentage labels\n",
    "plt.setp(\n",
    "    autotexts,\n",
    "    size=10, \n",
    "    weight=\"bold\"\n",
    ")\n",
    "\n",
    "# Add the asset name and value to each label\n",
    "for i, text in enumerate(texts):\n",
    "    text.set_text(f\"{assets[i]}\\n${savins_df['amount'][i]:,.2f}\")\n",
    "\n",
    "plt.title(\"Total value of the member's portfolio\")\n",
    "ax.set_ylabel('Amount')\n",
    "plt.axis('equal') # make the chart circular\n",
    "plt.show()"
   ]
  },
  {
   "cell_type": "markdown",
   "metadata": {},
   "source": [
    "#### Step 4: Using Python, determine if the current portfolio has enough to create an emergency fund as part of the member’s financial plan. Ideally, an emergency fund should equal to three times the member’s monthly income. To do this, implement the following steps:\n",
    "\n",
    "Step 1. Create a variable named `emergency_fund_value`, and set it equal to three times the value of the member’s `monthly_income` of 12000. (You set this earlier in Part 1).\n",
    "\n",
    "Step 2. Create a series of three if statements to determine if the member’s total portfolio is large enough to fund the emergency portfolio:\n",
    "\n",
    "* If the total portfolio value is greater than the emergency fund value, display a message congratulating the member for having enough money in this fund.\n",
    "\n",
    "* Else if the total portfolio value is equal to the emergency fund value, display a message congratulating the member on reaching this important financial goal.\n",
    "\n",
    "* Else the total portfolio is less than the emergency fund value, so display a message showing how many dollars away the member is from reaching the goal. (Subtract the total portfolio value from the emergency fund value.)\n"
   ]
  },
  {
   "cell_type": "markdown",
   "metadata": {
    "tags": []
   },
   "source": [
    "##### Step 4-1: Create a variable named `emergency_fund_value`, and set it equal to three times the value of the member’s `monthly_income` of 12000. (You set this earlier in Part 1)."
   ]
  },
  {
   "cell_type": "code",
   "execution_count": 26,
   "metadata": {},
   "outputs": [],
   "source": [
    "# Create a variable named emergency_fund_value\n",
    "emergency_fund_value = monthly_income * 3"
   ]
  },
  {
   "cell_type": "markdown",
   "metadata": {},
   "source": [
    "##### Step 4-2: Create a series of three if statements to determine if the member’s total portfolio is large enough to fund the emergency portfolio:\n",
    "\n",
    "* If the total portfolio value is greater than the emergency fund value, display a message congratulating the member for having enough money in this fund.\n",
    "\n",
    "* Else if the total portfolio value is equal to the emergency fund value, display a message congratulating the member on reaching this important financial goal.\n",
    "\n",
    "* Else the total portfolio is less than the emergency fund value, so display a message showing how many dollars away the member is from reaching the goal. (Subtract the total portfolio value from the emergency fund value.)"
   ]
  },
  {
   "cell_type": "code",
   "execution_count": 27,
   "metadata": {},
   "outputs": [
    {
     "name": "stdout",
     "output_type": "stream",
     "text": [
      "Congratulations, you have enough money in your emergency fund!\n"
     ]
    }
   ],
   "source": [
    "# Evaluate the possibility of creating an emergency fund with 3 conditions:\n",
    "if total_portfolio > emergency_fund_value:\n",
    "    print('Congratulations, you have enough money in your emergency fund!')\n",
    "elif total_portfolio == emergency_fund_value:\n",
    "    print('Congratulations on reaching your emergency fund, an important financial goal!')\n",
    "else:\n",
    "    print(f'You are ${emergency_fund_value - total_portfolio:,.2f} dollars away from reaching your emergency fund financial goal')\n"
   ]
  },
  {
   "cell_type": "markdown",
   "metadata": {},
   "source": [
    "## Part 2: Create a Financial Planner for Retirement"
   ]
  },
  {
   "cell_type": "markdown",
   "metadata": {},
   "source": [
    "### Create the Monte Carlo Simulation\n",
    "\n",
    "In this section, you’ll use the MCForecastTools library to create a Monte Carlo simulation for the member’s savings portfolio. To do this, complete the following steps:\n",
    "\n",
    "1. Make an API call via the Alpaca SDK to get 3 years of historical closing prices for a traditional 60/40 portfolio split: 60% stocks (SPY) and 40% bonds (AGG).\n",
    "\n",
    "2. Run a Monte Carlo simulation of 500 samples and 30 years for the 60/40 portfolio, and then plot the results.The following image shows the overlay line plot resulting from a simulation with these characteristics. However, because a random number generator is used to run each live Monte Carlo simulation, your image will differ slightly from this exact image:\n",
    "\n",
    "![A screenshot depicts the resulting plot.](Images/5-4-monte-carlo-line-plot.png)\n",
    "\n",
    "3. Plot the probability distribution of the Monte Carlo simulation. Plot the probability distribution of the Monte Carlo simulation. The following image shows the histogram plot resulting from a simulation with these characteristics. However, because a random number generator is used to run each live Monte Carlo simulation, your image will differ slightly from this exact image:\n",
    "\n",
    "![A screenshot depicts the histogram plot.](Images/5-4-monte-carlo-histogram.png)\n",
    "\n",
    "4. Generate the summary statistics for the Monte Carlo simulation.\n",
    "\n"
   ]
  },
  {
   "cell_type": "markdown",
   "metadata": {},
   "source": [
    "#### Step 1: Make an API call via the Alpaca SDK to get 3 years of historical closing prices for a traditional 60/40 portfolio split: 60% stocks (SPY) and 40% bonds (AGG)."
   ]
  },
  {
   "cell_type": "code",
   "execution_count": 28,
   "metadata": {},
   "outputs": [],
   "source": [
    "# Set start and end dates of 3 years back from your current date\n",
    "start_date = pd.Timestamp.now(tz='America/New_York').date() - pd.DateOffset(years=3)\n",
    "end_date = pd.Timestamp.now(tz='America/New_York').date()\n",
    "\n",
    "# Set both the start and end date at the date of your prior business weekday \n",
    "# This will give you the closing price of the previous trading day\n",
    "start_date = start_date - pd.tseries.offsets.BDay()\n",
    "end_date = end_date - pd.tseries.offsets.BDay()\n",
    "\n",
    "# Format current date as ISO format\n",
    "today = end_date.isoformat()"
   ]
  },
  {
   "cell_type": "code",
   "execution_count": 29,
   "metadata": {},
   "outputs": [
    {
     "data": {
      "text/html": [
       "<div>\n",
       "<style scoped>\n",
       "    .dataframe tbody tr th:only-of-type {\n",
       "        vertical-align: middle;\n",
       "    }\n",
       "\n",
       "    .dataframe tbody tr th {\n",
       "        vertical-align: top;\n",
       "    }\n",
       "\n",
       "    .dataframe thead tr th {\n",
       "        text-align: left;\n",
       "    }\n",
       "\n",
       "    .dataframe thead tr:last-of-type th {\n",
       "        text-align: right;\n",
       "    }\n",
       "</style>\n",
       "<table border=\"1\" class=\"dataframe\">\n",
       "  <thead>\n",
       "    <tr>\n",
       "      <th></th>\n",
       "      <th colspan=\"7\" halign=\"left\">AGG</th>\n",
       "      <th colspan=\"7\" halign=\"left\">SPY</th>\n",
       "    </tr>\n",
       "    <tr>\n",
       "      <th></th>\n",
       "      <th>open</th>\n",
       "      <th>high</th>\n",
       "      <th>low</th>\n",
       "      <th>close</th>\n",
       "      <th>volume</th>\n",
       "      <th>trade_count</th>\n",
       "      <th>vwap</th>\n",
       "      <th>open</th>\n",
       "      <th>high</th>\n",
       "      <th>low</th>\n",
       "      <th>close</th>\n",
       "      <th>volume</th>\n",
       "      <th>trade_count</th>\n",
       "      <th>vwap</th>\n",
       "    </tr>\n",
       "    <tr>\n",
       "      <th>timestamp</th>\n",
       "      <th></th>\n",
       "      <th></th>\n",
       "      <th></th>\n",
       "      <th></th>\n",
       "      <th></th>\n",
       "      <th></th>\n",
       "      <th></th>\n",
       "      <th></th>\n",
       "      <th></th>\n",
       "      <th></th>\n",
       "      <th></th>\n",
       "      <th></th>\n",
       "      <th></th>\n",
       "      <th></th>\n",
       "    </tr>\n",
       "  </thead>\n",
       "  <tbody>\n",
       "    <tr>\n",
       "      <th>2020-03-06 05:00:00+00:00</th>\n",
       "      <td>118.18</td>\n",
       "      <td>118.265</td>\n",
       "      <td>117.50</td>\n",
       "      <td>117.86</td>\n",
       "      <td>17456408</td>\n",
       "      <td>53640</td>\n",
       "      <td>117.881014</td>\n",
       "      <td>293.15</td>\n",
       "      <td>298.78</td>\n",
       "      <td>290.23</td>\n",
       "      <td>297.43</td>\n",
       "      <td>228918131</td>\n",
       "      <td>1642906</td>\n",
       "      <td>295.257537</td>\n",
       "    </tr>\n",
       "    <tr>\n",
       "      <th>2020-03-09 04:00:00+00:00</th>\n",
       "      <td>119.27</td>\n",
       "      <td>119.270</td>\n",
       "      <td>117.00</td>\n",
       "      <td>117.71</td>\n",
       "      <td>13666699</td>\n",
       "      <td>48155</td>\n",
       "      <td>118.082038</td>\n",
       "      <td>275.30</td>\n",
       "      <td>284.19</td>\n",
       "      <td>273.45</td>\n",
       "      <td>276.32</td>\n",
       "      <td>309425747</td>\n",
       "      <td>2577867</td>\n",
       "      <td>280.319722</td>\n",
       "    </tr>\n",
       "    <tr>\n",
       "      <th>2020-03-10 04:00:00+00:00</th>\n",
       "      <td>117.41</td>\n",
       "      <td>117.680</td>\n",
       "      <td>116.17</td>\n",
       "      <td>116.38</td>\n",
       "      <td>18694073</td>\n",
       "      <td>46652</td>\n",
       "      <td>116.943446</td>\n",
       "      <td>284.64</td>\n",
       "      <td>288.52</td>\n",
       "      <td>273.50</td>\n",
       "      <td>288.41</td>\n",
       "      <td>276444058</td>\n",
       "      <td>2516868</td>\n",
       "      <td>281.131339</td>\n",
       "    </tr>\n",
       "    <tr>\n",
       "      <th>2020-03-11 04:00:00+00:00</th>\n",
       "      <td>116.70</td>\n",
       "      <td>116.790</td>\n",
       "      <td>114.55</td>\n",
       "      <td>114.72</td>\n",
       "      <td>13342359</td>\n",
       "      <td>43941</td>\n",
       "      <td>115.675751</td>\n",
       "      <td>280.70</td>\n",
       "      <td>281.94</td>\n",
       "      <td>270.88</td>\n",
       "      <td>274.25</td>\n",
       "      <td>256678789</td>\n",
       "      <td>2152461</td>\n",
       "      <td>277.627436</td>\n",
       "    </tr>\n",
       "    <tr>\n",
       "      <th>2020-03-12 04:00:00+00:00</th>\n",
       "      <td>113.98</td>\n",
       "      <td>114.750</td>\n",
       "      <td>109.06</td>\n",
       "      <td>113.05</td>\n",
       "      <td>18684755</td>\n",
       "      <td>61313</td>\n",
       "      <td>111.916775</td>\n",
       "      <td>256.00</td>\n",
       "      <td>266.66</td>\n",
       "      <td>247.68</td>\n",
       "      <td>255.24</td>\n",
       "      <td>392221671</td>\n",
       "      <td>3709928</td>\n",
       "      <td>255.696186</td>\n",
       "    </tr>\n",
       "  </tbody>\n",
       "</table>\n",
       "</div>"
      ],
      "text/plain": [
       "                              AGG                                     \\\n",
       "                             open     high     low   close    volume   \n",
       "timestamp                                                              \n",
       "2020-03-06 05:00:00+00:00  118.18  118.265  117.50  117.86  17456408   \n",
       "2020-03-09 04:00:00+00:00  119.27  119.270  117.00  117.71  13666699   \n",
       "2020-03-10 04:00:00+00:00  117.41  117.680  116.17  116.38  18694073   \n",
       "2020-03-11 04:00:00+00:00  116.70  116.790  114.55  114.72  13342359   \n",
       "2020-03-12 04:00:00+00:00  113.98  114.750  109.06  113.05  18684755   \n",
       "\n",
       "                                                      SPY                  \\\n",
       "                          trade_count        vwap    open    high     low   \n",
       "timestamp                                                                   \n",
       "2020-03-06 05:00:00+00:00       53640  117.881014  293.15  298.78  290.23   \n",
       "2020-03-09 04:00:00+00:00       48155  118.082038  275.30  284.19  273.45   \n",
       "2020-03-10 04:00:00+00:00       46652  116.943446  284.64  288.52  273.50   \n",
       "2020-03-11 04:00:00+00:00       43941  115.675751  280.70  281.94  270.88   \n",
       "2020-03-12 04:00:00+00:00       61313  111.916775  256.00  266.66  247.68   \n",
       "\n",
       "                                                                      \n",
       "                            close     volume trade_count        vwap  \n",
       "timestamp                                                             \n",
       "2020-03-06 05:00:00+00:00  297.43  228918131     1642906  295.257537  \n",
       "2020-03-09 04:00:00+00:00  276.32  309425747     2577867  280.319722  \n",
       "2020-03-10 04:00:00+00:00  288.41  276444058     2516868  281.131339  \n",
       "2020-03-11 04:00:00+00:00  274.25  256678789     2152461  277.627436  \n",
       "2020-03-12 04:00:00+00:00  255.24  392221671     3709928  255.696186  "
      ]
     },
     "metadata": {},
     "output_type": "display_data"
    },
    {
     "data": {
      "text/html": [
       "<div>\n",
       "<style scoped>\n",
       "    .dataframe tbody tr th:only-of-type {\n",
       "        vertical-align: middle;\n",
       "    }\n",
       "\n",
       "    .dataframe tbody tr th {\n",
       "        vertical-align: top;\n",
       "    }\n",
       "\n",
       "    .dataframe thead tr th {\n",
       "        text-align: left;\n",
       "    }\n",
       "\n",
       "    .dataframe thead tr:last-of-type th {\n",
       "        text-align: right;\n",
       "    }\n",
       "</style>\n",
       "<table border=\"1\" class=\"dataframe\">\n",
       "  <thead>\n",
       "    <tr>\n",
       "      <th></th>\n",
       "      <th colspan=\"7\" halign=\"left\">AGG</th>\n",
       "      <th colspan=\"7\" halign=\"left\">SPY</th>\n",
       "    </tr>\n",
       "    <tr>\n",
       "      <th></th>\n",
       "      <th>open</th>\n",
       "      <th>high</th>\n",
       "      <th>low</th>\n",
       "      <th>close</th>\n",
       "      <th>volume</th>\n",
       "      <th>trade_count</th>\n",
       "      <th>vwap</th>\n",
       "      <th>open</th>\n",
       "      <th>high</th>\n",
       "      <th>low</th>\n",
       "      <th>close</th>\n",
       "      <th>volume</th>\n",
       "      <th>trade_count</th>\n",
       "      <th>vwap</th>\n",
       "    </tr>\n",
       "    <tr>\n",
       "      <th>timestamp</th>\n",
       "      <th></th>\n",
       "      <th></th>\n",
       "      <th></th>\n",
       "      <th></th>\n",
       "      <th></th>\n",
       "      <th></th>\n",
       "      <th></th>\n",
       "      <th></th>\n",
       "      <th></th>\n",
       "      <th></th>\n",
       "      <th></th>\n",
       "      <th></th>\n",
       "      <th></th>\n",
       "      <th></th>\n",
       "    </tr>\n",
       "  </thead>\n",
       "  <tbody>\n",
       "    <tr>\n",
       "      <th>2023-02-28 05:00:00+00:00</th>\n",
       "      <td>96.992</td>\n",
       "      <td>97.37</td>\n",
       "      <td>96.9291</td>\n",
       "      <td>97.31</td>\n",
       "      <td>8575033</td>\n",
       "      <td>25262</td>\n",
       "      <td>97.229794</td>\n",
       "      <td>397.23</td>\n",
       "      <td>399.28</td>\n",
       "      <td>396.15</td>\n",
       "      <td>396.26</td>\n",
       "      <td>96461172</td>\n",
       "      <td>601272</td>\n",
       "      <td>397.419803</td>\n",
       "    </tr>\n",
       "    <tr>\n",
       "      <th>2023-03-01 05:00:00+00:00</th>\n",
       "      <td>96.830</td>\n",
       "      <td>97.04</td>\n",
       "      <td>96.5000</td>\n",
       "      <td>96.52</td>\n",
       "      <td>9125358</td>\n",
       "      <td>27776</td>\n",
       "      <td>96.626343</td>\n",
       "      <td>395.41</td>\n",
       "      <td>396.69</td>\n",
       "      <td>393.38</td>\n",
       "      <td>394.74</td>\n",
       "      <td>99723518</td>\n",
       "      <td>699672</td>\n",
       "      <td>395.137160</td>\n",
       "    </tr>\n",
       "    <tr>\n",
       "      <th>2023-03-02 05:00:00+00:00</th>\n",
       "      <td>96.150</td>\n",
       "      <td>96.35</td>\n",
       "      <td>96.1100</td>\n",
       "      <td>96.32</td>\n",
       "      <td>9247374</td>\n",
       "      <td>27922</td>\n",
       "      <td>96.246987</td>\n",
       "      <td>392.68</td>\n",
       "      <td>398.69</td>\n",
       "      <td>392.33</td>\n",
       "      <td>397.81</td>\n",
       "      <td>85442636</td>\n",
       "      <td>612955</td>\n",
       "      <td>395.427267</td>\n",
       "    </tr>\n",
       "    <tr>\n",
       "      <th>2023-03-03 05:00:00+00:00</th>\n",
       "      <td>96.850</td>\n",
       "      <td>97.08</td>\n",
       "      <td>96.5900</td>\n",
       "      <td>97.08</td>\n",
       "      <td>7266999</td>\n",
       "      <td>23993</td>\n",
       "      <td>96.895506</td>\n",
       "      <td>399.71</td>\n",
       "      <td>404.45</td>\n",
       "      <td>399.03</td>\n",
       "      <td>404.19</td>\n",
       "      <td>90119952</td>\n",
       "      <td>645491</td>\n",
       "      <td>402.059203</td>\n",
       "    </tr>\n",
       "    <tr>\n",
       "      <th>2023-03-06 05:00:00+00:00</th>\n",
       "      <td>97.270</td>\n",
       "      <td>97.29</td>\n",
       "      <td>96.8100</td>\n",
       "      <td>96.84</td>\n",
       "      <td>4188489</td>\n",
       "      <td>20310</td>\n",
       "      <td>96.958500</td>\n",
       "      <td>405.05</td>\n",
       "      <td>407.45</td>\n",
       "      <td>404.01</td>\n",
       "      <td>404.47</td>\n",
       "      <td>72795946</td>\n",
       "      <td>539397</td>\n",
       "      <td>405.429475</td>\n",
       "    </tr>\n",
       "  </tbody>\n",
       "</table>\n",
       "</div>"
      ],
      "text/plain": [
       "                              AGG                                              \\\n",
       "                             open   high      low  close   volume trade_count   \n",
       "timestamp                                                                       \n",
       "2023-02-28 05:00:00+00:00  96.992  97.37  96.9291  97.31  8575033       25262   \n",
       "2023-03-01 05:00:00+00:00  96.830  97.04  96.5000  96.52  9125358       27776   \n",
       "2023-03-02 05:00:00+00:00  96.150  96.35  96.1100  96.32  9247374       27922   \n",
       "2023-03-03 05:00:00+00:00  96.850  97.08  96.5900  97.08  7266999       23993   \n",
       "2023-03-06 05:00:00+00:00  97.270  97.29  96.8100  96.84  4188489       20310   \n",
       "\n",
       "                                         SPY                          \\\n",
       "                                vwap    open    high     low   close   \n",
       "timestamp                                                              \n",
       "2023-02-28 05:00:00+00:00  97.229794  397.23  399.28  396.15  396.26   \n",
       "2023-03-01 05:00:00+00:00  96.626343  395.41  396.69  393.38  394.74   \n",
       "2023-03-02 05:00:00+00:00  96.246987  392.68  398.69  392.33  397.81   \n",
       "2023-03-03 05:00:00+00:00  96.895506  399.71  404.45  399.03  404.19   \n",
       "2023-03-06 05:00:00+00:00  96.958500  405.05  407.45  404.01  404.47   \n",
       "\n",
       "                                                             \n",
       "                             volume trade_count        vwap  \n",
       "timestamp                                                    \n",
       "2023-02-28 05:00:00+00:00  96461172      601272  397.419803  \n",
       "2023-03-01 05:00:00+00:00  99723518      699672  395.137160  \n",
       "2023-03-02 05:00:00+00:00  85442636      612955  395.427267  \n",
       "2023-03-03 05:00:00+00:00  90119952      645491  402.059203  \n",
       "2023-03-06 05:00:00+00:00  72795946      539397  405.429475  "
      ]
     },
     "execution_count": 29,
     "metadata": {},
     "output_type": "execute_result"
    }
   ],
   "source": [
    "# Use the Alpaca get_bars function to make the API call to get the 3 years worth of pricing data\n",
    "# The tickers and timeframe parameters have been set already above. \n",
    "# The start and end dates should be updated with the information set above\n",
    "# Add the df property to the end of the call so the response is returned as a DataFrame\n",
    "historical_closing_prices_df = alpaca.get_bars(\n",
    "    tickers,\n",
    "    timeframe,\n",
    "    start=start_date.date(),\n",
    "    end=end_date.date()\n",
    ").df\n",
    "\n",
    "# Reorganize the DataFrame\n",
    "# Separate ticker data\n",
    "AGG = historical_closing_prices_df[historical_closing_prices_df['symbol'] == 'AGG'].drop('symbol', axis=1)\n",
    "SPY = historical_closing_prices_df[historical_closing_prices_df['symbol'] == 'SPY'].drop('symbol', axis=1)\n",
    "\n",
    "# Concatenate the ticker DataFrames\n",
    "historical_closing_prices_df = pd.concat([AGG, SPY], axis=1, keys=['AGG', 'SPY'])\n",
    "\n",
    "# Display both the first and last five rows of the DataFrame\n",
    "display(historical_closing_prices_df.head())\n",
    "historical_closing_prices_df.tail()\n"
   ]
  },
  {
   "cell_type": "markdown",
   "metadata": {},
   "source": [
    "#### Step 2: Run a Monte Carlo simulation of 500 samples and 30 years for the 60/40 portfolio, and then plot the results."
   ]
  },
  {
   "cell_type": "code",
   "execution_count": 54,
   "metadata": {},
   "outputs": [
    {
     "data": {
      "text/plain": [
       "timestamp\n",
       "2020-03-06 05:00:00+00:00    118.180\n",
       "2020-03-09 04:00:00+00:00    119.270\n",
       "2020-03-10 04:00:00+00:00    117.410\n",
       "2020-03-11 04:00:00+00:00    116.700\n",
       "2020-03-12 04:00:00+00:00    113.980\n",
       "                              ...   \n",
       "2023-02-28 05:00:00+00:00     96.992\n",
       "2023-03-01 05:00:00+00:00     96.830\n",
       "2023-03-02 05:00:00+00:00     96.150\n",
       "2023-03-03 05:00:00+00:00     96.850\n",
       "2023-03-06 05:00:00+00:00     97.270\n",
       "Name: open, Length: 755, dtype: float64"
      ]
     },
     "execution_count": 54,
     "metadata": {},
     "output_type": "execute_result"
    }
   ],
   "source": [
    "#historical_closing_prices_df['AGG']['open']\n",
    "historical_closing_prices_df.AGG.open"
   ]
  },
  {
   "cell_type": "code",
   "execution_count": 30,
   "metadata": {},
   "outputs": [
    {
     "data": {
      "text/html": [
       "<div>\n",
       "<style scoped>\n",
       "    .dataframe tbody tr th:only-of-type {\n",
       "        vertical-align: middle;\n",
       "    }\n",
       "\n",
       "    .dataframe tbody tr th {\n",
       "        vertical-align: top;\n",
       "    }\n",
       "\n",
       "    .dataframe thead tr th {\n",
       "        text-align: left;\n",
       "    }\n",
       "\n",
       "    .dataframe thead tr:last-of-type th {\n",
       "        text-align: right;\n",
       "    }\n",
       "</style>\n",
       "<table border=\"1\" class=\"dataframe\">\n",
       "  <thead>\n",
       "    <tr>\n",
       "      <th></th>\n",
       "      <th colspan=\"8\" halign=\"left\">AGG</th>\n",
       "      <th colspan=\"8\" halign=\"left\">SPY</th>\n",
       "    </tr>\n",
       "    <tr>\n",
       "      <th></th>\n",
       "      <th>open</th>\n",
       "      <th>high</th>\n",
       "      <th>low</th>\n",
       "      <th>close</th>\n",
       "      <th>volume</th>\n",
       "      <th>trade_count</th>\n",
       "      <th>vwap</th>\n",
       "      <th>daily_return</th>\n",
       "      <th>open</th>\n",
       "      <th>high</th>\n",
       "      <th>low</th>\n",
       "      <th>close</th>\n",
       "      <th>volume</th>\n",
       "      <th>trade_count</th>\n",
       "      <th>vwap</th>\n",
       "      <th>daily_return</th>\n",
       "    </tr>\n",
       "    <tr>\n",
       "      <th>timestamp</th>\n",
       "      <th></th>\n",
       "      <th></th>\n",
       "      <th></th>\n",
       "      <th></th>\n",
       "      <th></th>\n",
       "      <th></th>\n",
       "      <th></th>\n",
       "      <th></th>\n",
       "      <th></th>\n",
       "      <th></th>\n",
       "      <th></th>\n",
       "      <th></th>\n",
       "      <th></th>\n",
       "      <th></th>\n",
       "      <th></th>\n",
       "      <th></th>\n",
       "    </tr>\n",
       "  </thead>\n",
       "  <tbody>\n",
       "    <tr>\n",
       "      <th>2020-03-06 05:00:00+00:00</th>\n",
       "      <td>118.18</td>\n",
       "      <td>118.265</td>\n",
       "      <td>117.50</td>\n",
       "      <td>117.86</td>\n",
       "      <td>17456408</td>\n",
       "      <td>53640</td>\n",
       "      <td>117.881014</td>\n",
       "      <td>NaN</td>\n",
       "      <td>293.15</td>\n",
       "      <td>298.78</td>\n",
       "      <td>290.23</td>\n",
       "      <td>297.43</td>\n",
       "      <td>228918131</td>\n",
       "      <td>1642906</td>\n",
       "      <td>295.257537</td>\n",
       "      <td>NaN</td>\n",
       "    </tr>\n",
       "    <tr>\n",
       "      <th>2020-03-09 04:00:00+00:00</th>\n",
       "      <td>119.27</td>\n",
       "      <td>119.270</td>\n",
       "      <td>117.00</td>\n",
       "      <td>117.71</td>\n",
       "      <td>13666699</td>\n",
       "      <td>48155</td>\n",
       "      <td>118.082038</td>\n",
       "      <td>-0.001273</td>\n",
       "      <td>275.30</td>\n",
       "      <td>284.19</td>\n",
       "      <td>273.45</td>\n",
       "      <td>276.32</td>\n",
       "      <td>309425747</td>\n",
       "      <td>2577867</td>\n",
       "      <td>280.319722</td>\n",
       "      <td>-0.070975</td>\n",
       "    </tr>\n",
       "    <tr>\n",
       "      <th>2020-03-10 04:00:00+00:00</th>\n",
       "      <td>117.41</td>\n",
       "      <td>117.680</td>\n",
       "      <td>116.17</td>\n",
       "      <td>116.38</td>\n",
       "      <td>18694073</td>\n",
       "      <td>46652</td>\n",
       "      <td>116.943446</td>\n",
       "      <td>-0.011299</td>\n",
       "      <td>284.64</td>\n",
       "      <td>288.52</td>\n",
       "      <td>273.50</td>\n",
       "      <td>288.41</td>\n",
       "      <td>276444058</td>\n",
       "      <td>2516868</td>\n",
       "      <td>281.131339</td>\n",
       "      <td>0.043754</td>\n",
       "    </tr>\n",
       "    <tr>\n",
       "      <th>2020-03-11 04:00:00+00:00</th>\n",
       "      <td>116.70</td>\n",
       "      <td>116.790</td>\n",
       "      <td>114.55</td>\n",
       "      <td>114.72</td>\n",
       "      <td>13342359</td>\n",
       "      <td>43941</td>\n",
       "      <td>115.675751</td>\n",
       "      <td>-0.014264</td>\n",
       "      <td>280.70</td>\n",
       "      <td>281.94</td>\n",
       "      <td>270.88</td>\n",
       "      <td>274.25</td>\n",
       "      <td>256678789</td>\n",
       "      <td>2152461</td>\n",
       "      <td>277.627436</td>\n",
       "      <td>-0.049097</td>\n",
       "    </tr>\n",
       "    <tr>\n",
       "      <th>2020-03-12 04:00:00+00:00</th>\n",
       "      <td>113.98</td>\n",
       "      <td>114.750</td>\n",
       "      <td>109.06</td>\n",
       "      <td>113.05</td>\n",
       "      <td>18684755</td>\n",
       "      <td>61313</td>\n",
       "      <td>111.916775</td>\n",
       "      <td>-0.014557</td>\n",
       "      <td>256.00</td>\n",
       "      <td>266.66</td>\n",
       "      <td>247.68</td>\n",
       "      <td>255.24</td>\n",
       "      <td>392221671</td>\n",
       "      <td>3709928</td>\n",
       "      <td>255.696186</td>\n",
       "      <td>-0.069316</td>\n",
       "    </tr>\n",
       "  </tbody>\n",
       "</table>\n",
       "</div>"
      ],
      "text/plain": [
       "                              AGG                                     \\\n",
       "                             open     high     low   close    volume   \n",
       "timestamp                                                              \n",
       "2020-03-06 05:00:00+00:00  118.18  118.265  117.50  117.86  17456408   \n",
       "2020-03-09 04:00:00+00:00  119.27  119.270  117.00  117.71  13666699   \n",
       "2020-03-10 04:00:00+00:00  117.41  117.680  116.17  116.38  18694073   \n",
       "2020-03-11 04:00:00+00:00  116.70  116.790  114.55  114.72  13342359   \n",
       "2020-03-12 04:00:00+00:00  113.98  114.750  109.06  113.05  18684755   \n",
       "\n",
       "                                                                   SPY  \\\n",
       "                          trade_count        vwap daily_return    open   \n",
       "timestamp                                                                \n",
       "2020-03-06 05:00:00+00:00       53640  117.881014          NaN  293.15   \n",
       "2020-03-09 04:00:00+00:00       48155  118.082038    -0.001273  275.30   \n",
       "2020-03-10 04:00:00+00:00       46652  116.943446    -0.011299  284.64   \n",
       "2020-03-11 04:00:00+00:00       43941  115.675751    -0.014264  280.70   \n",
       "2020-03-12 04:00:00+00:00       61313  111.916775    -0.014557  256.00   \n",
       "\n",
       "                                                                          \\\n",
       "                             high     low   close     volume trade_count   \n",
       "timestamp                                                                  \n",
       "2020-03-06 05:00:00+00:00  298.78  290.23  297.43  228918131     1642906   \n",
       "2020-03-09 04:00:00+00:00  284.19  273.45  276.32  309425747     2577867   \n",
       "2020-03-10 04:00:00+00:00  288.52  273.50  288.41  276444058     2516868   \n",
       "2020-03-11 04:00:00+00:00  281.94  270.88  274.25  256678789     2152461   \n",
       "2020-03-12 04:00:00+00:00  266.66  247.68  255.24  392221671     3709928   \n",
       "\n",
       "                                                    \n",
       "                                 vwap daily_return  \n",
       "timestamp                                           \n",
       "2020-03-06 05:00:00+00:00  295.257537          NaN  \n",
       "2020-03-09 04:00:00+00:00  280.319722    -0.070975  \n",
       "2020-03-10 04:00:00+00:00  281.131339     0.043754  \n",
       "2020-03-11 04:00:00+00:00  277.627436    -0.049097  \n",
       "2020-03-12 04:00:00+00:00  255.696186    -0.069316  "
      ]
     },
     "execution_count": 30,
     "metadata": {},
     "output_type": "execute_result"
    }
   ],
   "source": [
    "# Configure the Monte Carlo simulation to forecast 30 years cumulative returns\n",
    "# The weights should be split 40% to AGG and 60% to SPY. Annualize by 252 trading days.\n",
    "# Run 500 samples.\n",
    "MC_30_years_40_60_weights = MCSimulation(\n",
    "    portfolio_data = historical_closing_prices_df,\n",
    "    weights = [.40,.60],\n",
    "    num_simulation = 500,\n",
    "    num_trading_days = 252 * 30\n",
    ")\n",
    "\n",
    "# Review the simulation input data\n",
    "MC_30_years_40_60_weights.portfolio_data.head()"
   ]
  },
  {
   "cell_type": "code",
   "execution_count": 32,
   "metadata": {},
   "outputs": [
    {
     "name": "stdout",
     "output_type": "stream",
     "text": [
      "Running Monte Carlo simulation number 0.\n",
      "Running Monte Carlo simulation number 10.\n",
      "Running Monte Carlo simulation number 20.\n",
      "Running Monte Carlo simulation number 30.\n",
      "Running Monte Carlo simulation number 40.\n",
      "Running Monte Carlo simulation number 50.\n",
      "Running Monte Carlo simulation number 60.\n",
      "Running Monte Carlo simulation number 70.\n",
      "Running Monte Carlo simulation number 80.\n",
      "Running Monte Carlo simulation number 90.\n",
      "Running Monte Carlo simulation number 100.\n"
     ]
    },
    {
     "name": "stderr",
     "output_type": "stream",
     "text": [
      "/Users/lexx/Desktop/Github_Upload/5_API/Solved/MCForecastTools.py:117: PerformanceWarning: DataFrame is highly fragmented.  This is usually the result of calling `frame.insert` many times, which has poor performance.  Consider joining all columns at once using pd.concat(axis=1) instead.  To get a de-fragmented frame, use `newframe = frame.copy()`\n",
      "  portfolio_cumulative_returns[n] = (1 + sim_df.fillna(0)).cumprod()\n"
     ]
    },
    {
     "name": "stdout",
     "output_type": "stream",
     "text": [
      "Running Monte Carlo simulation number 110.\n",
      "Running Monte Carlo simulation number 120.\n",
      "Running Monte Carlo simulation number 130.\n",
      "Running Monte Carlo simulation number 140.\n",
      "Running Monte Carlo simulation number 150.\n",
      "Running Monte Carlo simulation number 160.\n",
      "Running Monte Carlo simulation number 170.\n",
      "Running Monte Carlo simulation number 180.\n",
      "Running Monte Carlo simulation number 190.\n",
      "Running Monte Carlo simulation number 200.\n",
      "Running Monte Carlo simulation number 210.\n",
      "Running Monte Carlo simulation number 220.\n",
      "Running Monte Carlo simulation number 230.\n",
      "Running Monte Carlo simulation number 240.\n",
      "Running Monte Carlo simulation number 250.\n",
      "Running Monte Carlo simulation number 260.\n",
      "Running Monte Carlo simulation number 270.\n",
      "Running Monte Carlo simulation number 280.\n",
      "Running Monte Carlo simulation number 290.\n",
      "Running Monte Carlo simulation number 300.\n",
      "Running Monte Carlo simulation number 310.\n",
      "Running Monte Carlo simulation number 320.\n",
      "Running Monte Carlo simulation number 330.\n",
      "Running Monte Carlo simulation number 340.\n",
      "Running Monte Carlo simulation number 350.\n",
      "Running Monte Carlo simulation number 360.\n",
      "Running Monte Carlo simulation number 370.\n",
      "Running Monte Carlo simulation number 380.\n",
      "Running Monte Carlo simulation number 390.\n",
      "Running Monte Carlo simulation number 400.\n",
      "Running Monte Carlo simulation number 410.\n",
      "Running Monte Carlo simulation number 420.\n",
      "Running Monte Carlo simulation number 430.\n",
      "Running Monte Carlo simulation number 440.\n",
      "Running Monte Carlo simulation number 450.\n",
      "Running Monte Carlo simulation number 460.\n",
      "Running Monte Carlo simulation number 470.\n",
      "Running Monte Carlo simulation number 480.\n",
      "Running Monte Carlo simulation number 490.\n"
     ]
    },
    {
     "data": {
      "text/html": [
       "<div>\n",
       "<style scoped>\n",
       "    .dataframe tbody tr th:only-of-type {\n",
       "        vertical-align: middle;\n",
       "    }\n",
       "\n",
       "    .dataframe tbody tr th {\n",
       "        vertical-align: top;\n",
       "    }\n",
       "\n",
       "    .dataframe thead th {\n",
       "        text-align: right;\n",
       "    }\n",
       "</style>\n",
       "<table border=\"1\" class=\"dataframe\">\n",
       "  <thead>\n",
       "    <tr style=\"text-align: right;\">\n",
       "      <th></th>\n",
       "      <th>0</th>\n",
       "      <th>1</th>\n",
       "      <th>2</th>\n",
       "      <th>3</th>\n",
       "      <th>4</th>\n",
       "      <th>5</th>\n",
       "      <th>6</th>\n",
       "      <th>7</th>\n",
       "      <th>8</th>\n",
       "      <th>9</th>\n",
       "      <th>...</th>\n",
       "      <th>490</th>\n",
       "      <th>491</th>\n",
       "      <th>492</th>\n",
       "      <th>493</th>\n",
       "      <th>494</th>\n",
       "      <th>495</th>\n",
       "      <th>496</th>\n",
       "      <th>497</th>\n",
       "      <th>498</th>\n",
       "      <th>499</th>\n",
       "    </tr>\n",
       "  </thead>\n",
       "  <tbody>\n",
       "    <tr>\n",
       "      <th>0</th>\n",
       "      <td>1.000000</td>\n",
       "      <td>1.000000</td>\n",
       "      <td>1.000000</td>\n",
       "      <td>1.000000</td>\n",
       "      <td>1.000000</td>\n",
       "      <td>1.000000</td>\n",
       "      <td>1.000000</td>\n",
       "      <td>1.000000</td>\n",
       "      <td>1.000000</td>\n",
       "      <td>1.000000</td>\n",
       "      <td>...</td>\n",
       "      <td>1.000000</td>\n",
       "      <td>1.000000</td>\n",
       "      <td>1.000000</td>\n",
       "      <td>1.000000</td>\n",
       "      <td>1.000000</td>\n",
       "      <td>1.000000</td>\n",
       "      <td>1.000000</td>\n",
       "      <td>1.000000</td>\n",
       "      <td>1.000000</td>\n",
       "      <td>1.000000</td>\n",
       "    </tr>\n",
       "    <tr>\n",
       "      <th>1</th>\n",
       "      <td>0.998749</td>\n",
       "      <td>1.000703</td>\n",
       "      <td>1.009834</td>\n",
       "      <td>1.012626</td>\n",
       "      <td>1.012354</td>\n",
       "      <td>0.986035</td>\n",
       "      <td>1.016852</td>\n",
       "      <td>1.013895</td>\n",
       "      <td>1.001059</td>\n",
       "      <td>0.989681</td>\n",
       "      <td>...</td>\n",
       "      <td>1.004335</td>\n",
       "      <td>0.984869</td>\n",
       "      <td>0.999252</td>\n",
       "      <td>1.001007</td>\n",
       "      <td>0.992265</td>\n",
       "      <td>0.988810</td>\n",
       "      <td>1.008588</td>\n",
       "      <td>1.000439</td>\n",
       "      <td>1.023026</td>\n",
       "      <td>1.009588</td>\n",
       "    </tr>\n",
       "    <tr>\n",
       "      <th>2</th>\n",
       "      <td>1.000976</td>\n",
       "      <td>1.001450</td>\n",
       "      <td>1.010266</td>\n",
       "      <td>1.020582</td>\n",
       "      <td>1.028226</td>\n",
       "      <td>0.989326</td>\n",
       "      <td>1.020530</td>\n",
       "      <td>1.005944</td>\n",
       "      <td>0.998835</td>\n",
       "      <td>0.993621</td>\n",
       "      <td>...</td>\n",
       "      <td>1.019317</td>\n",
       "      <td>0.978526</td>\n",
       "      <td>1.008653</td>\n",
       "      <td>1.009925</td>\n",
       "      <td>0.987598</td>\n",
       "      <td>1.000176</td>\n",
       "      <td>1.027142</td>\n",
       "      <td>1.002436</td>\n",
       "      <td>1.022697</td>\n",
       "      <td>1.009084</td>\n",
       "    </tr>\n",
       "    <tr>\n",
       "      <th>3</th>\n",
       "      <td>1.008847</td>\n",
       "      <td>1.000736</td>\n",
       "      <td>0.999468</td>\n",
       "      <td>1.014828</td>\n",
       "      <td>1.034233</td>\n",
       "      <td>0.996793</td>\n",
       "      <td>1.038220</td>\n",
       "      <td>1.010433</td>\n",
       "      <td>1.013202</td>\n",
       "      <td>0.990080</td>\n",
       "      <td>...</td>\n",
       "      <td>1.000813</td>\n",
       "      <td>0.977833</td>\n",
       "      <td>1.016434</td>\n",
       "      <td>1.002483</td>\n",
       "      <td>1.003674</td>\n",
       "      <td>0.989373</td>\n",
       "      <td>1.031958</td>\n",
       "      <td>1.014092</td>\n",
       "      <td>1.010967</td>\n",
       "      <td>1.000818</td>\n",
       "    </tr>\n",
       "    <tr>\n",
       "      <th>4</th>\n",
       "      <td>1.014482</td>\n",
       "      <td>0.991638</td>\n",
       "      <td>1.004413</td>\n",
       "      <td>1.023014</td>\n",
       "      <td>1.027986</td>\n",
       "      <td>0.999171</td>\n",
       "      <td>1.031584</td>\n",
       "      <td>1.013991</td>\n",
       "      <td>1.021628</td>\n",
       "      <td>0.986249</td>\n",
       "      <td>...</td>\n",
       "      <td>1.000986</td>\n",
       "      <td>0.976273</td>\n",
       "      <td>1.010148</td>\n",
       "      <td>1.008024</td>\n",
       "      <td>1.006901</td>\n",
       "      <td>0.983479</td>\n",
       "      <td>1.034051</td>\n",
       "      <td>1.011432</td>\n",
       "      <td>0.985674</td>\n",
       "      <td>1.016369</td>\n",
       "    </tr>\n",
       "    <tr>\n",
       "      <th>...</th>\n",
       "      <td>...</td>\n",
       "      <td>...</td>\n",
       "      <td>...</td>\n",
       "      <td>...</td>\n",
       "      <td>...</td>\n",
       "      <td>...</td>\n",
       "      <td>...</td>\n",
       "      <td>...</td>\n",
       "      <td>...</td>\n",
       "      <td>...</td>\n",
       "      <td>...</td>\n",
       "      <td>...</td>\n",
       "      <td>...</td>\n",
       "      <td>...</td>\n",
       "      <td>...</td>\n",
       "      <td>...</td>\n",
       "      <td>...</td>\n",
       "      <td>...</td>\n",
       "      <td>...</td>\n",
       "      <td>...</td>\n",
       "      <td>...</td>\n",
       "    </tr>\n",
       "    <tr>\n",
       "      <th>7556</th>\n",
       "      <td>4.986045</td>\n",
       "      <td>1.919589</td>\n",
       "      <td>4.658095</td>\n",
       "      <td>1.311604</td>\n",
       "      <td>5.989914</td>\n",
       "      <td>7.085719</td>\n",
       "      <td>47.511708</td>\n",
       "      <td>6.789583</td>\n",
       "      <td>6.618576</td>\n",
       "      <td>1.208909</td>\n",
       "      <td>...</td>\n",
       "      <td>7.853349</td>\n",
       "      <td>1.697007</td>\n",
       "      <td>3.873521</td>\n",
       "      <td>5.594018</td>\n",
       "      <td>1.695759</td>\n",
       "      <td>16.100417</td>\n",
       "      <td>20.505449</td>\n",
       "      <td>1.542980</td>\n",
       "      <td>0.993348</td>\n",
       "      <td>4.606908</td>\n",
       "    </tr>\n",
       "    <tr>\n",
       "      <th>7557</th>\n",
       "      <td>5.035359</td>\n",
       "      <td>1.919068</td>\n",
       "      <td>4.566720</td>\n",
       "      <td>1.304593</td>\n",
       "      <td>5.966089</td>\n",
       "      <td>7.009504</td>\n",
       "      <td>47.123220</td>\n",
       "      <td>6.787919</td>\n",
       "      <td>6.620456</td>\n",
       "      <td>1.213847</td>\n",
       "      <td>...</td>\n",
       "      <td>7.813657</td>\n",
       "      <td>1.696740</td>\n",
       "      <td>3.871176</td>\n",
       "      <td>5.583275</td>\n",
       "      <td>1.663525</td>\n",
       "      <td>15.880645</td>\n",
       "      <td>20.635874</td>\n",
       "      <td>1.553282</td>\n",
       "      <td>0.995017</td>\n",
       "      <td>4.633312</td>\n",
       "    </tr>\n",
       "    <tr>\n",
       "      <th>7558</th>\n",
       "      <td>4.989144</td>\n",
       "      <td>1.958607</td>\n",
       "      <td>4.584910</td>\n",
       "      <td>1.318518</td>\n",
       "      <td>5.897843</td>\n",
       "      <td>6.994089</td>\n",
       "      <td>47.037255</td>\n",
       "      <td>6.807552</td>\n",
       "      <td>6.557862</td>\n",
       "      <td>1.206909</td>\n",
       "      <td>...</td>\n",
       "      <td>7.765050</td>\n",
       "      <td>1.729851</td>\n",
       "      <td>3.879101</td>\n",
       "      <td>5.595419</td>\n",
       "      <td>1.661396</td>\n",
       "      <td>15.820584</td>\n",
       "      <td>21.057908</td>\n",
       "      <td>1.564126</td>\n",
       "      <td>0.988565</td>\n",
       "      <td>4.579864</td>\n",
       "    </tr>\n",
       "    <tr>\n",
       "      <th>7559</th>\n",
       "      <td>4.963630</td>\n",
       "      <td>1.978360</td>\n",
       "      <td>4.587990</td>\n",
       "      <td>1.307277</td>\n",
       "      <td>5.828522</td>\n",
       "      <td>6.946963</td>\n",
       "      <td>46.731897</td>\n",
       "      <td>6.876875</td>\n",
       "      <td>6.609557</td>\n",
       "      <td>1.211364</td>\n",
       "      <td>...</td>\n",
       "      <td>7.686605</td>\n",
       "      <td>1.739347</td>\n",
       "      <td>3.851229</td>\n",
       "      <td>5.630962</td>\n",
       "      <td>1.659525</td>\n",
       "      <td>15.810930</td>\n",
       "      <td>21.153323</td>\n",
       "      <td>1.570877</td>\n",
       "      <td>0.981697</td>\n",
       "      <td>4.625404</td>\n",
       "    </tr>\n",
       "    <tr>\n",
       "      <th>7560</th>\n",
       "      <td>4.978622</td>\n",
       "      <td>2.000013</td>\n",
       "      <td>4.571903</td>\n",
       "      <td>1.299820</td>\n",
       "      <td>5.763248</td>\n",
       "      <td>6.859842</td>\n",
       "      <td>46.721630</td>\n",
       "      <td>6.970253</td>\n",
       "      <td>6.598025</td>\n",
       "      <td>1.210868</td>\n",
       "      <td>...</td>\n",
       "      <td>7.540429</td>\n",
       "      <td>1.730351</td>\n",
       "      <td>3.901327</td>\n",
       "      <td>5.661835</td>\n",
       "      <td>1.642130</td>\n",
       "      <td>15.770502</td>\n",
       "      <td>21.414766</td>\n",
       "      <td>1.548489</td>\n",
       "      <td>0.982120</td>\n",
       "      <td>4.648667</td>\n",
       "    </tr>\n",
       "  </tbody>\n",
       "</table>\n",
       "<p>7561 rows × 500 columns</p>\n",
       "</div>"
      ],
      "text/plain": [
       "           0         1         2         3         4         5          6    \\\n",
       "0     1.000000  1.000000  1.000000  1.000000  1.000000  1.000000   1.000000   \n",
       "1     0.998749  1.000703  1.009834  1.012626  1.012354  0.986035   1.016852   \n",
       "2     1.000976  1.001450  1.010266  1.020582  1.028226  0.989326   1.020530   \n",
       "3     1.008847  1.000736  0.999468  1.014828  1.034233  0.996793   1.038220   \n",
       "4     1.014482  0.991638  1.004413  1.023014  1.027986  0.999171   1.031584   \n",
       "...        ...       ...       ...       ...       ...       ...        ...   \n",
       "7556  4.986045  1.919589  4.658095  1.311604  5.989914  7.085719  47.511708   \n",
       "7557  5.035359  1.919068  4.566720  1.304593  5.966089  7.009504  47.123220   \n",
       "7558  4.989144  1.958607  4.584910  1.318518  5.897843  6.994089  47.037255   \n",
       "7559  4.963630  1.978360  4.587990  1.307277  5.828522  6.946963  46.731897   \n",
       "7560  4.978622  2.000013  4.571903  1.299820  5.763248  6.859842  46.721630   \n",
       "\n",
       "           7         8         9    ...       490       491       492  \\\n",
       "0     1.000000  1.000000  1.000000  ...  1.000000  1.000000  1.000000   \n",
       "1     1.013895  1.001059  0.989681  ...  1.004335  0.984869  0.999252   \n",
       "2     1.005944  0.998835  0.993621  ...  1.019317  0.978526  1.008653   \n",
       "3     1.010433  1.013202  0.990080  ...  1.000813  0.977833  1.016434   \n",
       "4     1.013991  1.021628  0.986249  ...  1.000986  0.976273  1.010148   \n",
       "...        ...       ...       ...  ...       ...       ...       ...   \n",
       "7556  6.789583  6.618576  1.208909  ...  7.853349  1.697007  3.873521   \n",
       "7557  6.787919  6.620456  1.213847  ...  7.813657  1.696740  3.871176   \n",
       "7558  6.807552  6.557862  1.206909  ...  7.765050  1.729851  3.879101   \n",
       "7559  6.876875  6.609557  1.211364  ...  7.686605  1.739347  3.851229   \n",
       "7560  6.970253  6.598025  1.210868  ...  7.540429  1.730351  3.901327   \n",
       "\n",
       "           493       494        495        496       497       498       499  \n",
       "0     1.000000  1.000000   1.000000   1.000000  1.000000  1.000000  1.000000  \n",
       "1     1.001007  0.992265   0.988810   1.008588  1.000439  1.023026  1.009588  \n",
       "2     1.009925  0.987598   1.000176   1.027142  1.002436  1.022697  1.009084  \n",
       "3     1.002483  1.003674   0.989373   1.031958  1.014092  1.010967  1.000818  \n",
       "4     1.008024  1.006901   0.983479   1.034051  1.011432  0.985674  1.016369  \n",
       "...        ...       ...        ...        ...       ...       ...       ...  \n",
       "7556  5.594018  1.695759  16.100417  20.505449  1.542980  0.993348  4.606908  \n",
       "7557  5.583275  1.663525  15.880645  20.635874  1.553282  0.995017  4.633312  \n",
       "7558  5.595419  1.661396  15.820584  21.057908  1.564126  0.988565  4.579864  \n",
       "7559  5.630962  1.659525  15.810930  21.153323  1.570877  0.981697  4.625404  \n",
       "7560  5.661835  1.642130  15.770502  21.414766  1.548489  0.982120  4.648667  \n",
       "\n",
       "[7561 rows x 500 columns]"
      ]
     },
     "execution_count": 32,
     "metadata": {},
     "output_type": "execute_result"
    }
   ],
   "source": [
    "# Run the Monte Carlo simulation to forecast 30 years cumulative returns\n",
    "MC_30_years_40_60_weights.calc_cumulative_return()\n"
   ]
  },
  {
   "cell_type": "code",
   "execution_count": 46,
   "metadata": {},
   "outputs": [
    {
     "data": {
      "image/png": "[encoded data removed]",
      "text/plain": [
       "<Figure size 640x480 with 1 Axes>"
      ]
     },
     "metadata": {},
     "output_type": "display_data"
    }
   ],
   "source": [
    "# Visualize the 30-year Monte Carlo simulation by creating an\n",
    "# overlay line plot\n",
    "MC_30_years_40_60_weights_line_plot = MC_30_years_40_60_weights.plot_simulation()\n"
   ]
  },
  {
   "cell_type": "markdown",
   "metadata": {},
   "source": [
    "#### Step 3: Plot the probability distribution of the Monte Carlo simulation."
   ]
  },
  {
   "cell_type": "code",
   "execution_count": 47,
   "metadata": {},
   "outputs": [
    {
     "data": {
      "image/png": "[encoded data removed]",
      "text/plain": [
       "<Figure size 640x480 with 1 Axes>"
      ]
     },
     "metadata": {},
     "output_type": "display_data"
    }
   ],
   "source": [
    "# Visualize the probability distribution of the 30-year Monte Carlo simulation \n",
    "# by plotting a histogram\n",
    "MC_30_years_40_60_weights_hystogram_plot = MC_30_years_40_60_weights.plot_distribution()\n"
   ]
  },
  {
   "cell_type": "markdown",
   "metadata": {},
   "source": [
    "#### Step 4: Generate the summary statistics for the Monte Carlo simulation."
   ]
  },
  {
   "cell_type": "code",
   "execution_count": 48,
   "metadata": {},
   "outputs": [
    {
     "name": "stdout",
     "output_type": "stream",
     "text": [
      "count           500.000000\n",
      "mean              4.853643\n",
      "std               4.402019\n",
      "min               0.292565\n",
      "25%               2.034270\n",
      "50%               3.664394\n",
      "75%               6.148233\n",
      "max              46.721630\n",
      "95% CI Lower      0.706229\n",
      "95% CI Upper     15.859076\n",
      "Name: 7560, dtype: float64\n"
     ]
    }
   ],
   "source": [
    "# Generate summary statistics from the 30-year Monte Carlo simulation results\n",
    "# Save the results as a variable\n",
    "MC_30_years_40_60_weights_summary = MC_30_years_40_60_weights.summarize_cumulative_return()\n",
    "\n",
    "# Review the 30-year Monte Carlo summary statistics\n",
    "print(MC_30_years_40_60_weights_summary)"
   ]
  },
  {
   "cell_type": "markdown",
   "metadata": {},
   "source": [
    "### Analyze the Retirement Portfolio Forecasts\n",
    "\n",
    "Using the current value of only the stock and bond portion of the member's portfolio and the summary statistics that you generated from the Monte Carlo simulation, answer the following question in your Jupyter notebook:\n",
    "\n",
    "-  What are the lower and upper bounds for the expected value of the portfolio with a 95% confidence interval?\n"
   ]
  },
  {
   "cell_type": "code",
   "execution_count": 49,
   "metadata": {},
   "outputs": [
    {
     "name": "stdout",
     "output_type": "stream",
     "text": [
      "the current blah $63859.700000000004\n"
     ]
    }
   ],
   "source": [
    "# Print the current balance of the stock and bond portion of the members portfolio\n",
    "#print('The current value of stoks and bond portfolio: ${:,.2f}'.format(total_stocks_bonds))\n",
    "print(f'the current blah ${total_stocks_bonds}')"
   ]
  },
  {
   "cell_type": "code",
   "execution_count": 50,
   "metadata": {},
   "outputs": [
    {
     "name": "stdout",
     "output_type": "stream",
     "text": [
      "There is 95% chance that an initial value of $63,859.70 in the currret stock and bond portfolio in the next 30 years will end with in the range of $45099.57 and 1012755.84\n"
     ]
    }
   ],
   "source": [
    "# Use the lower and upper `95%` confidence intervals to calculate the range of the possible outcomes for the current stock/bond portfolio\n",
    "ci_lower_thirty_cumulative_return = round(MC_30_years_40_60_weights_summary[8] * total_stocks_bonds,2)\n",
    "ci_upper_thirty_cumulative_return = round(MC_30_years_40_60_weights_summary[9] * total_stocks_bonds,2)\n",
    "\n",
    "# Print the result of your calculations\n",
    "print(f\"There is 95% chance that an initial value of ${total_stocks_bonds:,.2f} in the currret stock and bond portfolio\"\n",
    "      f\" in the next 30 years will end with in the range of ${ci_lower_thirty_cumulative_return} and {ci_upper_thirty_cumulative_return}\")\n"
   ]
  },
  {
   "cell_type": "markdown",
   "metadata": {},
   "source": [
    "### Forecast Cumulative Returns in 10 Years\n",
    "\n",
    "The CTO of the credit union is impressed with your work on these planning tools but wonders if 30 years is a long time to wait until retirement. So, your next task is to adjust the retirement portfolio and run a new Monte Carlo simulation to find out if the changes will allow members to retire earlier.\n",
    "\n",
    "For this new Monte Carlo simulation, do the following: \n",
    "\n",
    "- Forecast the cumulative returns for 10 years from now. Because of the shortened investment horizon (30 years to 10 years), the portfolio needs to invest more heavily in the riskier asset&mdash;that is, stock&mdash;to help accumulate wealth for retirement. \n",
    "\n",
    "- Adjust the weights of the retirement portfolio so that the composition for the Monte Carlo simulation consists of 20% bonds and 80% stocks. \n",
    "\n",
    "- Run the simulation over 500 samples, and use the same data that the API call to Alpaca generated.\n",
    "\n",
    "- Based on the new Monte Carlo simulation, answer the following questions in your Jupyter notebook:\n",
    "\n",
    "    - Using the current value of only the stock and bond portion of the member's portfolio and the summary statistics that you generated from the new Monte Carlo simulation, what are the lower and upper bounds for the expected value of the portfolio (with the new weights) with a 95% confidence interval?\n",
    "\n",
    "    - Will weighting the portfolio more heavily toward stocks allow the credit union members to retire after only 10 years?\n"
   ]
  },
  {
   "cell_type": "code",
   "execution_count": 55,
   "metadata": {},
   "outputs": [
    {
     "data": {
      "text/html": [
       "<div>\n",
       "<style scoped>\n",
       "    .dataframe tbody tr th:only-of-type {\n",
       "        vertical-align: middle;\n",
       "    }\n",
       "\n",
       "    .dataframe tbody tr th {\n",
       "        vertical-align: top;\n",
       "    }\n",
       "\n",
       "    .dataframe thead tr th {\n",
       "        text-align: left;\n",
       "    }\n",
       "\n",
       "    .dataframe thead tr:last-of-type th {\n",
       "        text-align: right;\n",
       "    }\n",
       "</style>\n",
       "<table border=\"1\" class=\"dataframe\">\n",
       "  <thead>\n",
       "    <tr>\n",
       "      <th></th>\n",
       "      <th colspan=\"8\" halign=\"left\">AGG</th>\n",
       "      <th colspan=\"8\" halign=\"left\">SPY</th>\n",
       "    </tr>\n",
       "    <tr>\n",
       "      <th></th>\n",
       "      <th>open</th>\n",
       "      <th>high</th>\n",
       "      <th>low</th>\n",
       "      <th>close</th>\n",
       "      <th>volume</th>\n",
       "      <th>trade_count</th>\n",
       "      <th>vwap</th>\n",
       "      <th>daily_return</th>\n",
       "      <th>open</th>\n",
       "      <th>high</th>\n",
       "      <th>low</th>\n",
       "      <th>close</th>\n",
       "      <th>volume</th>\n",
       "      <th>trade_count</th>\n",
       "      <th>vwap</th>\n",
       "      <th>daily_return</th>\n",
       "    </tr>\n",
       "    <tr>\n",
       "      <th>timestamp</th>\n",
       "      <th></th>\n",
       "      <th></th>\n",
       "      <th></th>\n",
       "      <th></th>\n",
       "      <th></th>\n",
       "      <th></th>\n",
       "      <th></th>\n",
       "      <th></th>\n",
       "      <th></th>\n",
       "      <th></th>\n",
       "      <th></th>\n",
       "      <th></th>\n",
       "      <th></th>\n",
       "      <th></th>\n",
       "      <th></th>\n",
       "      <th></th>\n",
       "    </tr>\n",
       "  </thead>\n",
       "  <tbody>\n",
       "    <tr>\n",
       "      <th>2020-03-06 05:00:00+00:00</th>\n",
       "      <td>118.18</td>\n",
       "      <td>118.265</td>\n",
       "      <td>117.50</td>\n",
       "      <td>117.86</td>\n",
       "      <td>17456408</td>\n",
       "      <td>53640</td>\n",
       "      <td>117.881014</td>\n",
       "      <td>NaN</td>\n",
       "      <td>293.15</td>\n",
       "      <td>298.78</td>\n",
       "      <td>290.23</td>\n",
       "      <td>297.43</td>\n",
       "      <td>228918131</td>\n",
       "      <td>1642906</td>\n",
       "      <td>295.257537</td>\n",
       "      <td>NaN</td>\n",
       "    </tr>\n",
       "    <tr>\n",
       "      <th>2020-03-09 04:00:00+00:00</th>\n",
       "      <td>119.27</td>\n",
       "      <td>119.270</td>\n",
       "      <td>117.00</td>\n",
       "      <td>117.71</td>\n",
       "      <td>13666699</td>\n",
       "      <td>48155</td>\n",
       "      <td>118.082038</td>\n",
       "      <td>-0.001273</td>\n",
       "      <td>275.30</td>\n",
       "      <td>284.19</td>\n",
       "      <td>273.45</td>\n",
       "      <td>276.32</td>\n",
       "      <td>309425747</td>\n",
       "      <td>2577867</td>\n",
       "      <td>280.319722</td>\n",
       "      <td>-0.070975</td>\n",
       "    </tr>\n",
       "    <tr>\n",
       "      <th>2020-03-10 04:00:00+00:00</th>\n",
       "      <td>117.41</td>\n",
       "      <td>117.680</td>\n",
       "      <td>116.17</td>\n",
       "      <td>116.38</td>\n",
       "      <td>18694073</td>\n",
       "      <td>46652</td>\n",
       "      <td>116.943446</td>\n",
       "      <td>-0.011299</td>\n",
       "      <td>284.64</td>\n",
       "      <td>288.52</td>\n",
       "      <td>273.50</td>\n",
       "      <td>288.41</td>\n",
       "      <td>276444058</td>\n",
       "      <td>2516868</td>\n",
       "      <td>281.131339</td>\n",
       "      <td>0.043754</td>\n",
       "    </tr>\n",
       "    <tr>\n",
       "      <th>2020-03-11 04:00:00+00:00</th>\n",
       "      <td>116.70</td>\n",
       "      <td>116.790</td>\n",
       "      <td>114.55</td>\n",
       "      <td>114.72</td>\n",
       "      <td>13342359</td>\n",
       "      <td>43941</td>\n",
       "      <td>115.675751</td>\n",
       "      <td>-0.014264</td>\n",
       "      <td>280.70</td>\n",
       "      <td>281.94</td>\n",
       "      <td>270.88</td>\n",
       "      <td>274.25</td>\n",
       "      <td>256678789</td>\n",
       "      <td>2152461</td>\n",
       "      <td>277.627436</td>\n",
       "      <td>-0.049097</td>\n",
       "    </tr>\n",
       "    <tr>\n",
       "      <th>2020-03-12 04:00:00+00:00</th>\n",
       "      <td>113.98</td>\n",
       "      <td>114.750</td>\n",
       "      <td>109.06</td>\n",
       "      <td>113.05</td>\n",
       "      <td>18684755</td>\n",
       "      <td>61313</td>\n",
       "      <td>111.916775</td>\n",
       "      <td>-0.014557</td>\n",
       "      <td>256.00</td>\n",
       "      <td>266.66</td>\n",
       "      <td>247.68</td>\n",
       "      <td>255.24</td>\n",
       "      <td>392221671</td>\n",
       "      <td>3709928</td>\n",
       "      <td>255.696186</td>\n",
       "      <td>-0.069316</td>\n",
       "    </tr>\n",
       "  </tbody>\n",
       "</table>\n",
       "</div>"
      ],
      "text/plain": [
       "                              AGG                                     \\\n",
       "                             open     high     low   close    volume   \n",
       "timestamp                                                              \n",
       "2020-03-06 05:00:00+00:00  118.18  118.265  117.50  117.86  17456408   \n",
       "2020-03-09 04:00:00+00:00  119.27  119.270  117.00  117.71  13666699   \n",
       "2020-03-10 04:00:00+00:00  117.41  117.680  116.17  116.38  18694073   \n",
       "2020-03-11 04:00:00+00:00  116.70  116.790  114.55  114.72  13342359   \n",
       "2020-03-12 04:00:00+00:00  113.98  114.750  109.06  113.05  18684755   \n",
       "\n",
       "                                                                   SPY  \\\n",
       "                          trade_count        vwap daily_return    open   \n",
       "timestamp                                                                \n",
       "2020-03-06 05:00:00+00:00       53640  117.881014          NaN  293.15   \n",
       "2020-03-09 04:00:00+00:00       48155  118.082038    -0.001273  275.30   \n",
       "2020-03-10 04:00:00+00:00       46652  116.943446    -0.011299  284.64   \n",
       "2020-03-11 04:00:00+00:00       43941  115.675751    -0.014264  280.70   \n",
       "2020-03-12 04:00:00+00:00       61313  111.916775    -0.014557  256.00   \n",
       "\n",
       "                                                                          \\\n",
       "                             high     low   close     volume trade_count   \n",
       "timestamp                                                                  \n",
       "2020-03-06 05:00:00+00:00  298.78  290.23  297.43  228918131     1642906   \n",
       "2020-03-09 04:00:00+00:00  284.19  273.45  276.32  309425747     2577867   \n",
       "2020-03-10 04:00:00+00:00  288.52  273.50  288.41  276444058     2516868   \n",
       "2020-03-11 04:00:00+00:00  281.94  270.88  274.25  256678789     2152461   \n",
       "2020-03-12 04:00:00+00:00  266.66  247.68  255.24  392221671     3709928   \n",
       "\n",
       "                                                    \n",
       "                                 vwap daily_return  \n",
       "timestamp                                           \n",
       "2020-03-06 05:00:00+00:00  295.257537          NaN  \n",
       "2020-03-09 04:00:00+00:00  280.319722    -0.070975  \n",
       "2020-03-10 04:00:00+00:00  281.131339     0.043754  \n",
       "2020-03-11 04:00:00+00:00  277.627436    -0.049097  \n",
       "2020-03-12 04:00:00+00:00  255.696186    -0.069316  "
      ]
     },
     "execution_count": 55,
     "metadata": {},
     "output_type": "execute_result"
    }
   ],
   "source": [
    "# Configure a Monte Carlo simulation to forecast 10 years cumulative returns\n",
    "# The weights should be split 20% to AGG and 80% to SPY.\n",
    "# Run 500 samples.\n",
    "MC_10_years_20_80_weights = MCSimulation(\n",
    "    portfolio_data = historical_closing_prices_df,\n",
    "    weights = [.20,.80],\n",
    "    num_simulation = 500,\n",
    "    num_trading_days = 252 * 10\n",
    ")\n",
    "# Review the simulation input data\n",
    "MC_10_years_20_80_weights.portfolio_data.head()"
   ]
  },
  {
   "cell_type": "code",
   "execution_count": 56,
   "metadata": {},
   "outputs": [
    {
     "name": "stdout",
     "output_type": "stream",
     "text": [
      "Running Monte Carlo simulation number 0.\n",
      "Running Monte Carlo simulation number 10.\n",
      "Running Monte Carlo simulation number 20.\n",
      "Running Monte Carlo simulation number 30.\n",
      "Running Monte Carlo simulation number 40.\n",
      "Running Monte Carlo simulation number 50.\n",
      "Running Monte Carlo simulation number 60.\n",
      "Running Monte Carlo simulation number 70.\n",
      "Running Monte Carlo simulation number 80.\n",
      "Running Monte Carlo simulation number 90.\n",
      "Running Monte Carlo simulation number 100.\n"
     ]
    },
    {
     "name": "stderr",
     "output_type": "stream",
     "text": [
      "/Users/lexx/Desktop/Github_Upload/5_API/Solved/MCForecastTools.py:117: PerformanceWarning: DataFrame is highly fragmented.  This is usually the result of calling `frame.insert` many times, which has poor performance.  Consider joining all columns at once using pd.concat(axis=1) instead.  To get a de-fragmented frame, use `newframe = frame.copy()`\n",
      "  portfolio_cumulative_returns[n] = (1 + sim_df.fillna(0)).cumprod()\n"
     ]
    },
    {
     "name": "stdout",
     "output_type": "stream",
     "text": [
      "Running Monte Carlo simulation number 110.\n",
      "Running Monte Carlo simulation number 120.\n",
      "Running Monte Carlo simulation number 130.\n",
      "Running Monte Carlo simulation number 140.\n",
      "Running Monte Carlo simulation number 150.\n",
      "Running Monte Carlo simulation number 160.\n",
      "Running Monte Carlo simulation number 170.\n",
      "Running Monte Carlo simulation number 180.\n",
      "Running Monte Carlo simulation number 190.\n",
      "Running Monte Carlo simulation number 200.\n",
      "Running Monte Carlo simulation number 210.\n",
      "Running Monte Carlo simulation number 220.\n",
      "Running Monte Carlo simulation number 230.\n",
      "Running Monte Carlo simulation number 240.\n",
      "Running Monte Carlo simulation number 250.\n",
      "Running Monte Carlo simulation number 260.\n",
      "Running Monte Carlo simulation number 270.\n",
      "Running Monte Carlo simulation number 280.\n",
      "Running Monte Carlo simulation number 290.\n",
      "Running Monte Carlo simulation number 300.\n",
      "Running Monte Carlo simulation number 310.\n",
      "Running Monte Carlo simulation number 320.\n",
      "Running Monte Carlo simulation number 330.\n",
      "Running Monte Carlo simulation number 340.\n",
      "Running Monte Carlo simulation number 350.\n",
      "Running Monte Carlo simulation number 360.\n",
      "Running Monte Carlo simulation number 370.\n",
      "Running Monte Carlo simulation number 380.\n",
      "Running Monte Carlo simulation number 390.\n",
      "Running Monte Carlo simulation number 400.\n",
      "Running Monte Carlo simulation number 410.\n",
      "Running Monte Carlo simulation number 420.\n",
      "Running Monte Carlo simulation number 430.\n",
      "Running Monte Carlo simulation number 440.\n",
      "Running Monte Carlo simulation number 450.\n",
      "Running Monte Carlo simulation number 460.\n",
      "Running Monte Carlo simulation number 470.\n",
      "Running Monte Carlo simulation number 480.\n",
      "Running Monte Carlo simulation number 490.\n"
     ]
    },
    {
     "data": {
      "text/html": [
       "<div>\n",
       "<style scoped>\n",
       "    .dataframe tbody tr th:only-of-type {\n",
       "        vertical-align: middle;\n",
       "    }\n",
       "\n",
       "    .dataframe tbody tr th {\n",
       "        vertical-align: top;\n",
       "    }\n",
       "\n",
       "    .dataframe thead th {\n",
       "        text-align: right;\n",
       "    }\n",
       "</style>\n",
       "<table border=\"1\" class=\"dataframe\">\n",
       "  <thead>\n",
       "    <tr style=\"text-align: right;\">\n",
       "      <th></th>\n",
       "      <th>0</th>\n",
       "      <th>1</th>\n",
       "      <th>2</th>\n",
       "      <th>3</th>\n",
       "      <th>4</th>\n",
       "      <th>5</th>\n",
       "      <th>6</th>\n",
       "      <th>7</th>\n",
       "      <th>8</th>\n",
       "      <th>9</th>\n",
       "      <th>...</th>\n",
       "      <th>490</th>\n",
       "      <th>491</th>\n",
       "      <th>492</th>\n",
       "      <th>493</th>\n",
       "      <th>494</th>\n",
       "      <th>495</th>\n",
       "      <th>496</th>\n",
       "      <th>497</th>\n",
       "      <th>498</th>\n",
       "      <th>499</th>\n",
       "    </tr>\n",
       "  </thead>\n",
       "  <tbody>\n",
       "    <tr>\n",
       "      <th>0</th>\n",
       "      <td>1.000000</td>\n",
       "      <td>1.000000</td>\n",
       "      <td>1.000000</td>\n",
       "      <td>1.000000</td>\n",
       "      <td>1.000000</td>\n",
       "      <td>1.000000</td>\n",
       "      <td>1.000000</td>\n",
       "      <td>1.000000</td>\n",
       "      <td>1.000000</td>\n",
       "      <td>1.000000</td>\n",
       "      <td>...</td>\n",
       "      <td>1.000000</td>\n",
       "      <td>1.000000</td>\n",
       "      <td>1.000000</td>\n",
       "      <td>1.000000</td>\n",
       "      <td>1.000000</td>\n",
       "      <td>1.000000</td>\n",
       "      <td>1.000000</td>\n",
       "      <td>1.000000</td>\n",
       "      <td>1.000000</td>\n",
       "      <td>1.000000</td>\n",
       "    </tr>\n",
       "    <tr>\n",
       "      <th>1</th>\n",
       "      <td>0.986321</td>\n",
       "      <td>1.008887</td>\n",
       "      <td>1.014065</td>\n",
       "      <td>0.980215</td>\n",
       "      <td>1.008445</td>\n",
       "      <td>0.995446</td>\n",
       "      <td>0.995974</td>\n",
       "      <td>1.019433</td>\n",
       "      <td>0.987032</td>\n",
       "      <td>0.992969</td>\n",
       "      <td>...</td>\n",
       "      <td>1.004403</td>\n",
       "      <td>1.005264</td>\n",
       "      <td>1.025851</td>\n",
       "      <td>0.979553</td>\n",
       "      <td>0.998960</td>\n",
       "      <td>0.984409</td>\n",
       "      <td>1.003624</td>\n",
       "      <td>0.991449</td>\n",
       "      <td>1.018432</td>\n",
       "      <td>0.996629</td>\n",
       "    </tr>\n",
       "    <tr>\n",
       "      <th>2</th>\n",
       "      <td>0.985691</td>\n",
       "      <td>1.021062</td>\n",
       "      <td>1.010661</td>\n",
       "      <td>0.987831</td>\n",
       "      <td>1.014078</td>\n",
       "      <td>0.973015</td>\n",
       "      <td>0.980954</td>\n",
       "      <td>1.028396</td>\n",
       "      <td>1.010188</td>\n",
       "      <td>0.993843</td>\n",
       "      <td>...</td>\n",
       "      <td>0.995399</td>\n",
       "      <td>1.022419</td>\n",
       "      <td>1.022122</td>\n",
       "      <td>0.973935</td>\n",
       "      <td>1.000057</td>\n",
       "      <td>0.976570</td>\n",
       "      <td>1.012208</td>\n",
       "      <td>0.979474</td>\n",
       "      <td>1.012738</td>\n",
       "      <td>1.000853</td>\n",
       "    </tr>\n",
       "    <tr>\n",
       "      <th>3</th>\n",
       "      <td>0.999922</td>\n",
       "      <td>1.018343</td>\n",
       "      <td>1.009117</td>\n",
       "      <td>0.982973</td>\n",
       "      <td>1.009780</td>\n",
       "      <td>0.980240</td>\n",
       "      <td>0.980087</td>\n",
       "      <td>1.038884</td>\n",
       "      <td>1.024535</td>\n",
       "      <td>0.990177</td>\n",
       "      <td>...</td>\n",
       "      <td>0.995679</td>\n",
       "      <td>1.003056</td>\n",
       "      <td>1.027427</td>\n",
       "      <td>0.967356</td>\n",
       "      <td>1.024222</td>\n",
       "      <td>0.976161</td>\n",
       "      <td>1.026144</td>\n",
       "      <td>0.991722</td>\n",
       "      <td>1.034391</td>\n",
       "      <td>0.984408</td>\n",
       "    </tr>\n",
       "    <tr>\n",
       "      <th>4</th>\n",
       "      <td>0.994955</td>\n",
       "      <td>1.019104</td>\n",
       "      <td>0.991330</td>\n",
       "      <td>0.993786</td>\n",
       "      <td>1.018895</td>\n",
       "      <td>0.968217</td>\n",
       "      <td>0.957694</td>\n",
       "      <td>1.034115</td>\n",
       "      <td>1.025742</td>\n",
       "      <td>0.979077</td>\n",
       "      <td>...</td>\n",
       "      <td>0.985129</td>\n",
       "      <td>1.011973</td>\n",
       "      <td>1.035625</td>\n",
       "      <td>0.975114</td>\n",
       "      <td>1.018748</td>\n",
       "      <td>0.966869</td>\n",
       "      <td>1.033569</td>\n",
       "      <td>0.995835</td>\n",
       "      <td>1.055109</td>\n",
       "      <td>0.969345</td>\n",
       "    </tr>\n",
       "    <tr>\n",
       "      <th>...</th>\n",
       "      <td>...</td>\n",
       "      <td>...</td>\n",
       "      <td>...</td>\n",
       "      <td>...</td>\n",
       "      <td>...</td>\n",
       "      <td>...</td>\n",
       "      <td>...</td>\n",
       "      <td>...</td>\n",
       "      <td>...</td>\n",
       "      <td>...</td>\n",
       "      <td>...</td>\n",
       "      <td>...</td>\n",
       "      <td>...</td>\n",
       "      <td>...</td>\n",
       "      <td>...</td>\n",
       "      <td>...</td>\n",
       "      <td>...</td>\n",
       "      <td>...</td>\n",
       "      <td>...</td>\n",
       "      <td>...</td>\n",
       "      <td>...</td>\n",
       "    </tr>\n",
       "    <tr>\n",
       "      <th>2516</th>\n",
       "      <td>1.833950</td>\n",
       "      <td>2.672216</td>\n",
       "      <td>1.040418</td>\n",
       "      <td>1.125615</td>\n",
       "      <td>3.825146</td>\n",
       "      <td>2.415219</td>\n",
       "      <td>2.033220</td>\n",
       "      <td>1.528920</td>\n",
       "      <td>2.924048</td>\n",
       "      <td>2.146735</td>\n",
       "      <td>...</td>\n",
       "      <td>1.439095</td>\n",
       "      <td>0.719916</td>\n",
       "      <td>0.771707</td>\n",
       "      <td>2.293262</td>\n",
       "      <td>1.031157</td>\n",
       "      <td>2.646484</td>\n",
       "      <td>4.859116</td>\n",
       "      <td>1.612252</td>\n",
       "      <td>0.968390</td>\n",
       "      <td>0.766903</td>\n",
       "    </tr>\n",
       "    <tr>\n",
       "      <th>2517</th>\n",
       "      <td>1.841000</td>\n",
       "      <td>2.666205</td>\n",
       "      <td>1.032831</td>\n",
       "      <td>1.106280</td>\n",
       "      <td>3.826503</td>\n",
       "      <td>2.384152</td>\n",
       "      <td>2.041014</td>\n",
       "      <td>1.570955</td>\n",
       "      <td>2.994308</td>\n",
       "      <td>2.176157</td>\n",
       "      <td>...</td>\n",
       "      <td>1.442021</td>\n",
       "      <td>0.714105</td>\n",
       "      <td>0.765375</td>\n",
       "      <td>2.340387</td>\n",
       "      <td>1.037118</td>\n",
       "      <td>2.617728</td>\n",
       "      <td>4.809828</td>\n",
       "      <td>1.596359</td>\n",
       "      <td>0.966124</td>\n",
       "      <td>0.787108</td>\n",
       "    </tr>\n",
       "    <tr>\n",
       "      <th>2518</th>\n",
       "      <td>1.850929</td>\n",
       "      <td>2.714822</td>\n",
       "      <td>1.060617</td>\n",
       "      <td>1.090115</td>\n",
       "      <td>3.871967</td>\n",
       "      <td>2.380447</td>\n",
       "      <td>2.045847</td>\n",
       "      <td>1.589584</td>\n",
       "      <td>3.001974</td>\n",
       "      <td>2.149115</td>\n",
       "      <td>...</td>\n",
       "      <td>1.438415</td>\n",
       "      <td>0.713597</td>\n",
       "      <td>0.769565</td>\n",
       "      <td>2.354321</td>\n",
       "      <td>1.027877</td>\n",
       "      <td>2.631423</td>\n",
       "      <td>4.789008</td>\n",
       "      <td>1.590685</td>\n",
       "      <td>0.952974</td>\n",
       "      <td>0.773534</td>\n",
       "    </tr>\n",
       "    <tr>\n",
       "      <th>2519</th>\n",
       "      <td>1.848546</td>\n",
       "      <td>2.729401</td>\n",
       "      <td>1.060552</td>\n",
       "      <td>1.081131</td>\n",
       "      <td>3.858435</td>\n",
       "      <td>2.404696</td>\n",
       "      <td>2.055756</td>\n",
       "      <td>1.596460</td>\n",
       "      <td>3.017475</td>\n",
       "      <td>2.201379</td>\n",
       "      <td>...</td>\n",
       "      <td>1.458369</td>\n",
       "      <td>0.715063</td>\n",
       "      <td>0.772290</td>\n",
       "      <td>2.380771</td>\n",
       "      <td>1.005375</td>\n",
       "      <td>2.610915</td>\n",
       "      <td>4.788994</td>\n",
       "      <td>1.588025</td>\n",
       "      <td>0.939210</td>\n",
       "      <td>0.773578</td>\n",
       "    </tr>\n",
       "    <tr>\n",
       "      <th>2520</th>\n",
       "      <td>1.854640</td>\n",
       "      <td>2.770092</td>\n",
       "      <td>1.046781</td>\n",
       "      <td>1.104910</td>\n",
       "      <td>3.789177</td>\n",
       "      <td>2.397876</td>\n",
       "      <td>2.030852</td>\n",
       "      <td>1.591703</td>\n",
       "      <td>3.012386</td>\n",
       "      <td>2.189228</td>\n",
       "      <td>...</td>\n",
       "      <td>1.450010</td>\n",
       "      <td>0.733303</td>\n",
       "      <td>0.783184</td>\n",
       "      <td>2.387015</td>\n",
       "      <td>1.008212</td>\n",
       "      <td>2.636484</td>\n",
       "      <td>4.839863</td>\n",
       "      <td>1.562064</td>\n",
       "      <td>0.933010</td>\n",
       "      <td>0.780514</td>\n",
       "    </tr>\n",
       "  </tbody>\n",
       "</table>\n",
       "<p>2521 rows × 500 columns</p>\n",
       "</div>"
      ],
      "text/plain": [
       "           0         1         2         3         4         5         6    \\\n",
       "0     1.000000  1.000000  1.000000  1.000000  1.000000  1.000000  1.000000   \n",
       "1     0.986321  1.008887  1.014065  0.980215  1.008445  0.995446  0.995974   \n",
       "2     0.985691  1.021062  1.010661  0.987831  1.014078  0.973015  0.980954   \n",
       "3     0.999922  1.018343  1.009117  0.982973  1.009780  0.980240  0.980087   \n",
       "4     0.994955  1.019104  0.991330  0.993786  1.018895  0.968217  0.957694   \n",
       "...        ...       ...       ...       ...       ...       ...       ...   \n",
       "2516  1.833950  2.672216  1.040418  1.125615  3.825146  2.415219  2.033220   \n",
       "2517  1.841000  2.666205  1.032831  1.106280  3.826503  2.384152  2.041014   \n",
       "2518  1.850929  2.714822  1.060617  1.090115  3.871967  2.380447  2.045847   \n",
       "2519  1.848546  2.729401  1.060552  1.081131  3.858435  2.404696  2.055756   \n",
       "2520  1.854640  2.770092  1.046781  1.104910  3.789177  2.397876  2.030852   \n",
       "\n",
       "           7         8         9    ...       490       491       492  \\\n",
       "0     1.000000  1.000000  1.000000  ...  1.000000  1.000000  1.000000   \n",
       "1     1.019433  0.987032  0.992969  ...  1.004403  1.005264  1.025851   \n",
       "2     1.028396  1.010188  0.993843  ...  0.995399  1.022419  1.022122   \n",
       "3     1.038884  1.024535  0.990177  ...  0.995679  1.003056  1.027427   \n",
       "4     1.034115  1.025742  0.979077  ...  0.985129  1.011973  1.035625   \n",
       "...        ...       ...       ...  ...       ...       ...       ...   \n",
       "2516  1.528920  2.924048  2.146735  ...  1.439095  0.719916  0.771707   \n",
       "2517  1.570955  2.994308  2.176157  ...  1.442021  0.714105  0.765375   \n",
       "2518  1.589584  3.001974  2.149115  ...  1.438415  0.713597  0.769565   \n",
       "2519  1.596460  3.017475  2.201379  ...  1.458369  0.715063  0.772290   \n",
       "2520  1.591703  3.012386  2.189228  ...  1.450010  0.733303  0.783184   \n",
       "\n",
       "           493       494       495       496       497       498       499  \n",
       "0     1.000000  1.000000  1.000000  1.000000  1.000000  1.000000  1.000000  \n",
       "1     0.979553  0.998960  0.984409  1.003624  0.991449  1.018432  0.996629  \n",
       "2     0.973935  1.000057  0.976570  1.012208  0.979474  1.012738  1.000853  \n",
       "3     0.967356  1.024222  0.976161  1.026144  0.991722  1.034391  0.984408  \n",
       "4     0.975114  1.018748  0.966869  1.033569  0.995835  1.055109  0.969345  \n",
       "...        ...       ...       ...       ...       ...       ...       ...  \n",
       "2516  2.293262  1.031157  2.646484  4.859116  1.612252  0.968390  0.766903  \n",
       "2517  2.340387  1.037118  2.617728  4.809828  1.596359  0.966124  0.787108  \n",
       "2518  2.354321  1.027877  2.631423  4.789008  1.590685  0.952974  0.773534  \n",
       "2519  2.380771  1.005375  2.610915  4.788994  1.588025  0.939210  0.773578  \n",
       "2520  2.387015  1.008212  2.636484  4.839863  1.562064  0.933010  0.780514  \n",
       "\n",
       "[2521 rows x 500 columns]"
      ]
     },
     "execution_count": 56,
     "metadata": {},
     "output_type": "execute_result"
    }
   ],
   "source": [
    "# Run the Monte Carlo simulation to forecast 10 years cumulative returns\n",
    "MC_10_years_20_80_weights.calc_cumulative_return()"
   ]
  },
  {
   "cell_type": "code",
   "execution_count": 59,
   "metadata": {},
   "outputs": [
    {
     "data": {
      "image/png": "[encoded data removed]",
      "text/plain": [
       "<Figure size 640x480 with 1 Axes>"
      ]
     },
     "metadata": {},
     "output_type": "display_data"
    }
   ],
   "source": [
    "# Visualize the 10-year Monte Carlo simulation by creating an\n",
    "# overlay line plot\n",
    "MC_10_years_20_80_weights_line_plot = MC_10_years_20_80_weights.plot_simulation()\n"
   ]
  },
  {
   "cell_type": "code",
   "execution_count": 61,
   "metadata": {},
   "outputs": [
    {
     "data": {
      "image/png": "[encoded data removed]",
      "text/plain": [
       "<Figure size 640x480 with 1 Axes>"
      ]
     },
     "metadata": {},
     "output_type": "display_data"
    }
   ],
   "source": [
    "# Visualize the probability distribution of the 10-year Monte Carlo simulation \n",
    "# by plotting a histogram\n",
    "MC_10_years_20_80_weights_line_plot_hystogram_plot = MC_10_years_20_80_weights.plot_distribution()"
   ]
  },
  {
   "cell_type": "code",
   "execution_count": 68,
   "metadata": {},
   "outputs": [
    {
     "name": "stdout",
     "output_type": "stream",
     "text": [
      "count           500.000000\n",
      "mean              2.453089\n",
      "std               1.489691\n",
      "min               0.452077\n",
      "25%               1.426529\n",
      "50%               2.026193\n",
      "75%               3.097034\n",
      "max              10.878341\n",
      "95% CI Lower      0.673786\n",
      "95% CI Upper      6.287644\n",
      "Name: 2520, dtype: float64\n"
     ]
    }
   ],
   "source": [
    "# Generate summary statistics from the 10-year Monte Carlo simulation results\n",
    "# Save the results as a variable\n",
    "MC_10_years_20_80_weights_summary = MC_10_years_20_80_weights.summarize_cumulative_return()\n",
    "\n",
    "# Review the 30-year Monte Carlo summary statistics\n",
    "print(MC_10_years_20_80_weights_summary)\n"
   ]
  },
  {
   "cell_type": "markdown",
   "metadata": {},
   "source": [
    "### Answer the following questions:"
   ]
  },
  {
   "cell_type": "markdown",
   "metadata": {},
   "source": [
    "#### Question: Using the current value of only the stock and bond portion of the member's portfolio and the summary statistics that you generated from the new Monte Carlo simulation, what are the lower and upper bounds for the expected value of the portfolio (with the new weights) with a 95% confidence interval?"
   ]
  },
  {
   "cell_type": "code",
   "execution_count": 69,
   "metadata": {},
   "outputs": [
    {
     "name": "stdout",
     "output_type": "stream",
     "text": [
      "The current value of stoks and bond portfolio: $63859.7\n"
     ]
    }
   ],
   "source": [
    "# Print the current balance of the stock and bond portion of the members portfolio\n",
    "print(f'The current value of stoks and bond portfolio: ${round(total_stocks_bonds,2)}')\n"
   ]
  },
  {
   "cell_type": "code",
   "execution_count": 72,
   "metadata": {},
   "outputs": [
    {
     "name": "stdout",
     "output_type": "stream",
     "text": [
      "There is 95% chance that an initial value of $63,859.70 in the currret stock and bond portfolio in the next 10 years will end with in the range of $43027.75 and 401527.08\n"
     ]
    }
   ],
   "source": [
    "# Use the lower and upper `95%` confidence intervals to calculate the range of the possible outcomes for the current stock/bond portfolio\n",
    "ci_lower_ten_cumulative_return = round(MC_10_years_20_80_weights_summary[8] * total_stocks_bonds,2)\n",
    "ci_upper_ten_cumulative_return = round(MC_10_years_20_80_weights_summary[9] * total_stocks_bonds,2)\n",
    "\n",
    "# Print the result of your calculations\n",
    "print(f\"There is 95% chance that an initial value of ${total_stocks_bonds:,.2f} in the currret stock and bond portfolio\"\n",
    "      f\" in the next 10 years will end with in the range of ${ci_lower_ten_cumulative_return} and {ci_upper_ten_cumulative_return}\")"
   ]
  },
  {
   "cell_type": "markdown",
   "metadata": {},
   "source": [
    "#### Question: Will weighting the portfolio more heavily to stocks allow the credit union members to retire after only 10 years?"
   ]
  },
  {
   "cell_type": "raw",
   "metadata": {},
   "source": [
    "**Answer** # YOUR ANSWER HERE"
   ]
  },
  {
   "cell_type": "code",
   "execution_count": null,
   "metadata": {},
   "outputs": [],
   "source": [
    "range of $45099.57 and 1012755.84   ange of $43027.75 and 401527.08"
   ]
  }
 ],
 "metadata": {
  "kernelspec": {
   "display_name": "Python 3 (ipykernel)",
   "language": "python",
   "name": "python3"
  },
  "language_info": {
   "codemirror_mode": {
    "name": "ipython",
    "version": 3
   },
   "file_extension": ".py",
   "mimetype": "text/x-python",
   "name": "python",
   "nbconvert_exporter": "python",
   "pygments_lexer": "ipython3",
   "version": "3.7.13"
  }
 },
 "nbformat": 4,
 "nbformat_minor": 4
}
